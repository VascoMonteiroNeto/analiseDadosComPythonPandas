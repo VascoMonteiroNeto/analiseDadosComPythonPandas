{
 "cells": [
  {
   "cell_type": "markdown",
   "id": "994b7d35",
   "metadata": {},
   "source": [
    "# **Python para análise de dados(Pandas)** - *Vasco Monteiro Neto*"
   ]
  },
  {
   "cell_type": "markdown",
   "id": "a78d6f0d",
   "metadata": {},
   "source": [
    "### O banco de dados usado nesse notebook foi retirado do Portal Brasileiro de Dados Abertos e contém informações acerca de imóveis da União que não são ocupados pela Administração Pública. São explorados os principais conceitos da aula: concatenação de DataFrames, limpeza dos dados, criação de novas colunas e ordenação.\n",
    "\n",
    "#### Link: https://dados.gov.br/dataset/imoveis-da-uniao"
   ]
  },
  {
   "cell_type": "code",
   "execution_count": 1,
   "id": "28e6b0fc",
   "metadata": {},
   "outputs": [],
   "source": [
    "import pandas as pd"
   ]
  },
  {
   "cell_type": "code",
   "execution_count": 2,
   "id": "dd4e3d77",
   "metadata": {},
   "outputs": [
    {
     "name": "stderr",
     "output_type": "stream",
     "text": [
      "/home/vasco/anaconda3/lib/python3.8/site-packages/openpyxl/styles/stylesheet.py:221: UserWarning: Workbook contains no default style, apply openpyxl's default\n",
      "  warn(\"Workbook contains no default style, apply openpyxl's default\")\n"
     ]
    }
   ],
   "source": [
    "df = pd.read_excel('da-imoveisdauniao-out-2020.xlsx')"
   ]
  },
  {
   "cell_type": "code",
   "execution_count": 3,
   "id": "17e6d17a",
   "metadata": {},
   "outputs": [
    {
     "data": {
      "text/html": [
       "<div>\n",
       "<style scoped>\n",
       "    .dataframe tbody tr th:only-of-type {\n",
       "        vertical-align: middle;\n",
       "    }\n",
       "\n",
       "    .dataframe tbody tr th {\n",
       "        vertical-align: top;\n",
       "    }\n",
       "\n",
       "    .dataframe thead th {\n",
       "        text-align: right;\n",
       "    }\n",
       "</style>\n",
       "<table border=\"1\" class=\"dataframe\">\n",
       "  <thead>\n",
       "    <tr style=\"text-align: right;\">\n",
       "      <th></th>\n",
       "      <th>Classe</th>\n",
       "      <th>Número do RIP</th>\n",
       "      <th>Id. Utilização</th>\n",
       "      <th>Data de cadastramento</th>\n",
       "      <th>UF</th>\n",
       "      <th>Município</th>\n",
       "      <th>Endereço</th>\n",
       "      <th>Bairro</th>\n",
       "      <th>Conceituação</th>\n",
       "      <th>Tipo Imóvel</th>\n",
       "      <th>Regime de Utilização</th>\n",
       "      <th>Proprietário Oficial</th>\n",
       "      <th>Data do Início da Utilização</th>\n",
       "      <th>Área do Terreno Total</th>\n",
       "      <th>Área da União</th>\n",
       "    </tr>\n",
       "  </thead>\n",
       "  <tbody>\n",
       "    <tr>\n",
       "      <th>0</th>\n",
       "      <td>DOMINIAL</td>\n",
       "      <td>1010000141</td>\n",
       "      <td>2.0</td>\n",
       "      <td>09-03-1999</td>\n",
       "      <td>RO</td>\n",
       "      <td>GUAJARA-MIRIM</td>\n",
       "      <td>AV BEIRA RIO 500 MARGEM DO RIO MAMORE CEP: 768...</td>\n",
       "      <td>CENTRO</td>\n",
       "      <td>MARGINAL DE RIO</td>\n",
       "      <td>TERRENO</td>\n",
       "      <td>OCUPACAO</td>\n",
       "      <td>União (Adm. Pub. Fed. direta)</td>\n",
       "      <td>12-02-2001</td>\n",
       "      <td>2.131,20</td>\n",
       "      <td>2.131,20</td>\n",
       "    </tr>\n",
       "    <tr>\n",
       "      <th>1</th>\n",
       "      <td>DOMINIAL</td>\n",
       "      <td>1010000222</td>\n",
       "      <td>1.0</td>\n",
       "      <td>16-03-1999</td>\n",
       "      <td>RO</td>\n",
       "      <td>GUAJARA-MIRIM</td>\n",
       "      <td>AV BEIRA RIO 1398 QUADRAS 159B E 160B CEP: 768...</td>\n",
       "      <td>TRIANGULO</td>\n",
       "      <td>MARGINAL DE RIO</td>\n",
       "      <td>TERRENO</td>\n",
       "      <td>OCUPACAO</td>\n",
       "      <td>União (Adm. Pub. Fed. direta)</td>\n",
       "      <td>01-05-1998</td>\n",
       "      <td>6.175,00</td>\n",
       "      <td>6.175,00</td>\n",
       "    </tr>\n",
       "    <tr>\n",
       "      <th>2</th>\n",
       "      <td>DOMINIAL</td>\n",
       "      <td>1010000303</td>\n",
       "      <td>1.0</td>\n",
       "      <td>16-03-1999</td>\n",
       "      <td>RO</td>\n",
       "      <td>GUAJARA-MIRIM</td>\n",
       "      <td>AV BEIRA RIO 1001 QUADRA 115B - MARGEM DO RIO ...</td>\n",
       "      <td>TRIANGULO</td>\n",
       "      <td>MARGINAL DE RIO</td>\n",
       "      <td>TERRENO</td>\n",
       "      <td>OCUPACAO</td>\n",
       "      <td>União (Adm. Pub. Fed. direta)</td>\n",
       "      <td>01-05-1998</td>\n",
       "      <td>1.925,00</td>\n",
       "      <td>1.925,00</td>\n",
       "    </tr>\n",
       "    <tr>\n",
       "      <th>3</th>\n",
       "      <td>DOMINIAL</td>\n",
       "      <td>1010000494</td>\n",
       "      <td>1.0</td>\n",
       "      <td>16-03-1999</td>\n",
       "      <td>RO</td>\n",
       "      <td>GUAJARA-MIRIM</td>\n",
       "      <td>AV ESTEVAO CORREA 13 MARGEM DO RIO MAMORE CEP:...</td>\n",
       "      <td>TRIANGULO</td>\n",
       "      <td>MARGINAL DE RIO</td>\n",
       "      <td>TERRENO</td>\n",
       "      <td>OCUPACAO</td>\n",
       "      <td>União (Adm. Pub. Fed. direta)</td>\n",
       "      <td>01-05-1998</td>\n",
       "      <td>1.800,00</td>\n",
       "      <td>1.800,00</td>\n",
       "    </tr>\n",
       "    <tr>\n",
       "      <th>4</th>\n",
       "      <td>DOMINIAL</td>\n",
       "      <td>1010000737</td>\n",
       "      <td>1.0</td>\n",
       "      <td>21-08-2000</td>\n",
       "      <td>RO</td>\n",
       "      <td>GUAJARA-MIRIM</td>\n",
       "      <td>AV BEIRA RIO 45 QUADRA 46B SETOR 01 CEP: 76850000</td>\n",
       "      <td>CENTRO</td>\n",
       "      <td>MARGINAL DE RIO C/NAC INTERIOR</td>\n",
       "      <td>TERRENO</td>\n",
       "      <td>OCUPACAO</td>\n",
       "      <td>União (Adm. Pub. Fed. direta)</td>\n",
       "      <td>01-01-1997</td>\n",
       "      <td>660,00</td>\n",
       "      <td>660,00</td>\n",
       "    </tr>\n",
       "  </tbody>\n",
       "</table>\n",
       "</div>"
      ],
      "text/plain": [
       "     Classe  Número do RIP  Id. Utilização Data de cadastramento  UF  \\\n",
       "0  DOMINIAL     1010000141             2.0            09-03-1999  RO   \n",
       "1  DOMINIAL     1010000222             1.0            16-03-1999  RO   \n",
       "2  DOMINIAL     1010000303             1.0            16-03-1999  RO   \n",
       "3  DOMINIAL     1010000494             1.0            16-03-1999  RO   \n",
       "4  DOMINIAL     1010000737             1.0            21-08-2000  RO   \n",
       "\n",
       "       Município                                           Endereço  \\\n",
       "0  GUAJARA-MIRIM  AV BEIRA RIO 500 MARGEM DO RIO MAMORE CEP: 768...   \n",
       "1  GUAJARA-MIRIM  AV BEIRA RIO 1398 QUADRAS 159B E 160B CEP: 768...   \n",
       "2  GUAJARA-MIRIM  AV BEIRA RIO 1001 QUADRA 115B - MARGEM DO RIO ...   \n",
       "3  GUAJARA-MIRIM  AV ESTEVAO CORREA 13 MARGEM DO RIO MAMORE CEP:...   \n",
       "4  GUAJARA-MIRIM  AV BEIRA RIO 45 QUADRA 46B SETOR 01 CEP: 76850000   \n",
       "\n",
       "      Bairro                    Conceituação Tipo Imóvel  \\\n",
       "0     CENTRO                 MARGINAL DE RIO     TERRENO   \n",
       "1  TRIANGULO                 MARGINAL DE RIO     TERRENO   \n",
       "2  TRIANGULO                 MARGINAL DE RIO     TERRENO   \n",
       "3  TRIANGULO                 MARGINAL DE RIO     TERRENO   \n",
       "4     CENTRO  MARGINAL DE RIO C/NAC INTERIOR     TERRENO   \n",
       "\n",
       "             Regime de Utilização           Proprietário Oficial  \\\n",
       "0  OCUPACAO                        União (Adm. Pub. Fed. direta)   \n",
       "1  OCUPACAO                        União (Adm. Pub. Fed. direta)   \n",
       "2  OCUPACAO                        União (Adm. Pub. Fed. direta)   \n",
       "3  OCUPACAO                        União (Adm. Pub. Fed. direta)   \n",
       "4  OCUPACAO                        União (Adm. Pub. Fed. direta)   \n",
       "\n",
       "  Data do Início da Utilização Área do Terreno Total    Área da União  \n",
       "0                   12-02-2001              2.131,20         2.131,20  \n",
       "1                   01-05-1998              6.175,00         6.175,00  \n",
       "2                   01-05-1998              1.925,00         1.925,00  \n",
       "3                   01-05-1998              1.800,00         1.800,00  \n",
       "4                   01-01-1997                660,00           660,00  "
      ]
     },
     "execution_count": 3,
     "metadata": {},
     "output_type": "execute_result"
    }
   ],
   "source": [
    "df.head()"
   ]
  },
  {
   "cell_type": "code",
   "execution_count": 4,
   "id": "caa78090",
   "metadata": {},
   "outputs": [
    {
     "name": "stdout",
     "output_type": "stream",
     "text": [
      "<class 'pandas.core.frame.DataFrame'>\n",
      "RangeIndex: 724478 entries, 0 to 724477\n",
      "Data columns (total 15 columns):\n",
      " #   Column                        Non-Null Count   Dtype  \n",
      "---  ------                        --------------   -----  \n",
      " 0   Classe                        724478 non-null  object \n",
      " 1   Número do RIP                 724478 non-null  int64  \n",
      " 2   Id. Utilização                707793 non-null  float64\n",
      " 3   Data de cadastramento         724478 non-null  object \n",
      " 4   UF                            724478 non-null  object \n",
      " 5   Município                     724478 non-null  object \n",
      " 6   Endereço                      724322 non-null  object \n",
      " 7   Bairro                        715447 non-null  object \n",
      " 8   Conceituação                  722221 non-null  object \n",
      " 9   Tipo Imóvel                   724478 non-null  object \n",
      " 10  Regime de Utilização          724478 non-null  object \n",
      " 11  Proprietário Oficial          724478 non-null  object \n",
      " 12  Data do Início da Utilização  593830 non-null  object \n",
      " 13  Área do Terreno Total         724478 non-null  object \n",
      " 14  Área da União                 724478 non-null  object \n",
      "dtypes: float64(1), int64(1), object(13)\n",
      "memory usage: 82.9+ MB\n"
     ]
    }
   ],
   "source": [
    "df.info()"
   ]
  },
  {
   "cell_type": "markdown",
   "id": "e12cdc7b",
   "metadata": {},
   "source": [
    "### Extraindo do dataset apenas algumas variáveis e depois um subset comm dados de 4 estados diferentes."
   ]
  },
  {
   "cell_type": "code",
   "execution_count": 5,
   "id": "bd470ac3",
   "metadata": {},
   "outputs": [
    {
     "data": {
      "text/html": [
       "<div>\n",
       "<style scoped>\n",
       "    .dataframe tbody tr th:only-of-type {\n",
       "        vertical-align: middle;\n",
       "    }\n",
       "\n",
       "    .dataframe tbody tr th {\n",
       "        vertical-align: top;\n",
       "    }\n",
       "\n",
       "    .dataframe thead th {\n",
       "        text-align: right;\n",
       "    }\n",
       "</style>\n",
       "<table border=\"1\" class=\"dataframe\">\n",
       "  <thead>\n",
       "    <tr style=\"text-align: right;\">\n",
       "      <th></th>\n",
       "      <th>UF</th>\n",
       "      <th>Município</th>\n",
       "      <th>Data do Início da Utilização</th>\n",
       "      <th>Área do Terreno Total</th>\n",
       "    </tr>\n",
       "  </thead>\n",
       "  <tbody>\n",
       "    <tr>\n",
       "      <th>0</th>\n",
       "      <td>RO</td>\n",
       "      <td>GUAJARA-MIRIM</td>\n",
       "      <td>12-02-2001</td>\n",
       "      <td>2.131,20</td>\n",
       "    </tr>\n",
       "    <tr>\n",
       "      <th>1</th>\n",
       "      <td>RO</td>\n",
       "      <td>GUAJARA-MIRIM</td>\n",
       "      <td>01-05-1998</td>\n",
       "      <td>6.175,00</td>\n",
       "    </tr>\n",
       "    <tr>\n",
       "      <th>2</th>\n",
       "      <td>RO</td>\n",
       "      <td>GUAJARA-MIRIM</td>\n",
       "      <td>01-05-1998</td>\n",
       "      <td>1.925,00</td>\n",
       "    </tr>\n",
       "    <tr>\n",
       "      <th>3</th>\n",
       "      <td>RO</td>\n",
       "      <td>GUAJARA-MIRIM</td>\n",
       "      <td>01-05-1998</td>\n",
       "      <td>1.800,00</td>\n",
       "    </tr>\n",
       "    <tr>\n",
       "      <th>4</th>\n",
       "      <td>RO</td>\n",
       "      <td>GUAJARA-MIRIM</td>\n",
       "      <td>01-01-1997</td>\n",
       "      <td>660,00</td>\n",
       "    </tr>\n",
       "  </tbody>\n",
       "</table>\n",
       "</div>"
      ],
      "text/plain": [
       "   UF      Município Data do Início da Utilização Área do Terreno Total\n",
       "0  RO  GUAJARA-MIRIM                   12-02-2001              2.131,20\n",
       "1  RO  GUAJARA-MIRIM                   01-05-1998              6.175,00\n",
       "2  RO  GUAJARA-MIRIM                   01-05-1998              1.925,00\n",
       "3  RO  GUAJARA-MIRIM                   01-05-1998              1.800,00\n",
       "4  RO  GUAJARA-MIRIM                   01-01-1997                660,00"
      ]
     },
     "execution_count": 5,
     "metadata": {},
     "output_type": "execute_result"
    }
   ],
   "source": [
    "df = df[['UF','Município','Data do Início da Utilização','Área do Terreno Total']]\n",
    "df.head(5)"
   ]
  },
  {
   "cell_type": "code",
   "execution_count": 6,
   "id": "81195596",
   "metadata": {},
   "outputs": [],
   "source": [
    "dfRS = df.loc[df['UF'] == 'RS']\n",
    "dfBA = df.loc[df['UF'] == 'BA']\n",
    "dfGO = df.loc[df['UF'] == 'GO']\n",
    "dfMT = df.loc[df['UF'] == 'MT']"
   ]
  },
  {
   "cell_type": "markdown",
   "id": "a8a670f3",
   "metadata": {},
   "source": [
    "### Realizando a concatenação dos DataFrames"
   ]
  },
  {
   "cell_type": "code",
   "execution_count": 7,
   "id": "ba02c4fb",
   "metadata": {},
   "outputs": [],
   "source": [
    "df = pd.concat([dfRS, dfBA, dfGO, dfMT])"
   ]
  },
  {
   "cell_type": "code",
   "execution_count": 8,
   "id": "ca5849e3",
   "metadata": {},
   "outputs": [
    {
     "data": {
      "text/plain": [
       "array(['RS', 'BA', 'GO', 'MT'], dtype=object)"
      ]
     },
     "execution_count": 8,
     "metadata": {},
     "output_type": "execute_result"
    }
   ],
   "source": [
    "df['UF'].unique()"
   ]
  },
  {
   "cell_type": "code",
   "execution_count": 9,
   "id": "344d3ef7",
   "metadata": {},
   "outputs": [
    {
     "data": {
      "text/html": [
       "<div>\n",
       "<style scoped>\n",
       "    .dataframe tbody tr th:only-of-type {\n",
       "        vertical-align: middle;\n",
       "    }\n",
       "\n",
       "    .dataframe tbody tr th {\n",
       "        vertical-align: top;\n",
       "    }\n",
       "\n",
       "    .dataframe thead th {\n",
       "        text-align: right;\n",
       "    }\n",
       "</style>\n",
       "<table border=\"1\" class=\"dataframe\">\n",
       "  <thead>\n",
       "    <tr style=\"text-align: right;\">\n",
       "      <th></th>\n",
       "      <th>UF</th>\n",
       "      <th>Município</th>\n",
       "      <th>Data do Início da Utilização</th>\n",
       "      <th>Área do Terreno Total</th>\n",
       "    </tr>\n",
       "  </thead>\n",
       "  <tbody>\n",
       "    <tr>\n",
       "      <th>301172</th>\n",
       "      <td>BA</td>\n",
       "      <td>SALVADOR</td>\n",
       "      <td>09-06-1999</td>\n",
       "      <td>43,66</td>\n",
       "    </tr>\n",
       "    <tr>\n",
       "      <th>661538</th>\n",
       "      <td>MT</td>\n",
       "      <td>VARZEA GRANDE</td>\n",
       "      <td>24-03-2010</td>\n",
       "      <td>5.811,00</td>\n",
       "    </tr>\n",
       "    <tr>\n",
       "      <th>305418</th>\n",
       "      <td>BA</td>\n",
       "      <td>SALVADOR</td>\n",
       "      <td>06-12-2000</td>\n",
       "      <td>2.116,28</td>\n",
       "    </tr>\n",
       "    <tr>\n",
       "      <th>656432</th>\n",
       "      <td>RS</td>\n",
       "      <td>TRAMANDAI</td>\n",
       "      <td>NaN</td>\n",
       "      <td>725,00</td>\n",
       "    </tr>\n",
       "    <tr>\n",
       "      <th>651308</th>\n",
       "      <td>RS</td>\n",
       "      <td>RIO GRANDE</td>\n",
       "      <td>15-07-2015</td>\n",
       "      <td>332,46</td>\n",
       "    </tr>\n",
       "  </tbody>\n",
       "</table>\n",
       "</div>"
      ],
      "text/plain": [
       "        UF      Município Data do Início da Utilização Área do Terreno Total\n",
       "301172  BA       SALVADOR                   09-06-1999                 43,66\n",
       "661538  MT  VARZEA GRANDE                   24-03-2010              5.811,00\n",
       "305418  BA       SALVADOR                   06-12-2000              2.116,28\n",
       "656432  RS      TRAMANDAI                          NaN                725,00\n",
       "651308  RS     RIO GRANDE                   15-07-2015                332,46"
      ]
     },
     "execution_count": 9,
     "metadata": {},
     "output_type": "execute_result"
    }
   ],
   "source": [
    "df.sample(5)"
   ]
  },
  {
   "cell_type": "code",
   "execution_count": 10,
   "id": "2cdafc4b",
   "metadata": {},
   "outputs": [
    {
     "name": "stdout",
     "output_type": "stream",
     "text": [
      "<class 'pandas.core.frame.DataFrame'>\n",
      "Int64Index: 57053 entries, 423677 to 724365\n",
      "Data columns (total 4 columns):\n",
      " #   Column                        Non-Null Count  Dtype \n",
      "---  ------                        --------------  ----- \n",
      " 0   UF                            57053 non-null  object\n",
      " 1   Município                     57053 non-null  object\n",
      " 2   Data do Início da Utilização  43076 non-null  object\n",
      " 3   Área do Terreno Total         57053 non-null  object\n",
      "dtypes: object(4)\n",
      "memory usage: 2.2+ MB\n"
     ]
    }
   ],
   "source": [
    "df.info()"
   ]
  },
  {
   "cell_type": "markdown",
   "id": "a6b5dbbe",
   "metadata": {},
   "source": [
    "### Alterando o tipo de dado da coluna 'Data de cadastramento'"
   ]
  },
  {
   "cell_type": "code",
   "execution_count": 11,
   "id": "71eaeaf2",
   "metadata": {},
   "outputs": [],
   "source": [
    "df[\"Data do Início da Utilização\"] = pd.to_datetime(df['Data do Início da Utilização'])"
   ]
  },
  {
   "cell_type": "code",
   "execution_count": 12,
   "id": "a153d804",
   "metadata": {},
   "outputs": [
    {
     "name": "stdout",
     "output_type": "stream",
     "text": [
      "<class 'pandas.core.frame.DataFrame'>\n",
      "Int64Index: 57053 entries, 423677 to 724365\n",
      "Data columns (total 4 columns):\n",
      " #   Column                        Non-Null Count  Dtype         \n",
      "---  ------                        --------------  -----         \n",
      " 0   UF                            57053 non-null  object        \n",
      " 1   Município                     57053 non-null  object        \n",
      " 2   Data do Início da Utilização  43076 non-null  datetime64[ns]\n",
      " 3   Área do Terreno Total         57053 non-null  object        \n",
      "dtypes: datetime64[ns](1), object(3)\n",
      "memory usage: 2.2+ MB\n"
     ]
    }
   ],
   "source": [
    "df.info()"
   ]
  },
  {
   "cell_type": "markdown",
   "id": "c838594c",
   "metadata": {},
   "source": [
    "### Tratando valores nulos"
   ]
  },
  {
   "cell_type": "code",
   "execution_count": 13,
   "id": "d0245d9a",
   "metadata": {},
   "outputs": [
    {
     "data": {
      "text/plain": [
       "UF                                  0\n",
       "Município                           0\n",
       "Data do Início da Utilização    13977\n",
       "Área do Terreno Total               0\n",
       "dtype: int64"
      ]
     },
     "execution_count": 13,
     "metadata": {},
     "output_type": "execute_result"
    }
   ],
   "source": [
    "df.isnull().sum()"
   ]
  },
  {
   "cell_type": "code",
   "execution_count": 14,
   "id": "103835b5",
   "metadata": {},
   "outputs": [],
   "source": [
    "#Retirando as linhas com valores da variável 'Data do Início da Utilização' nulo.\n",
    "df.dropna(subset=[\"Data do Início da Utilização\"], inplace=True)"
   ]
  },
  {
   "cell_type": "markdown",
   "id": "9fd56cb4",
   "metadata": {},
   "source": [
    "### Percebe-se que o número de amostras diminuiu, pois as linhas com valores nulos foram retiradas do DataFrame"
   ]
  },
  {
   "cell_type": "code",
   "execution_count": 15,
   "id": "945048d9",
   "metadata": {},
   "outputs": [
    {
     "name": "stdout",
     "output_type": "stream",
     "text": [
      "<class 'pandas.core.frame.DataFrame'>\n",
      "Int64Index: 43076 entries, 423677 to 724361\n",
      "Data columns (total 4 columns):\n",
      " #   Column                        Non-Null Count  Dtype         \n",
      "---  ------                        --------------  -----         \n",
      " 0   UF                            43076 non-null  object        \n",
      " 1   Município                     43076 non-null  object        \n",
      " 2   Data do Início da Utilização  43076 non-null  datetime64[ns]\n",
      " 3   Área do Terreno Total         43076 non-null  object        \n",
      "dtypes: datetime64[ns](1), object(3)\n",
      "memory usage: 1.6+ MB\n"
     ]
    }
   ],
   "source": [
    "df.info()"
   ]
  },
  {
   "cell_type": "markdown",
   "id": "5fa802f3",
   "metadata": {},
   "source": [
    "### Criando novas colunas"
   ]
  },
  {
   "cell_type": "markdown",
   "id": "be3a26ce",
   "metadata": {},
   "source": [
    "#### Criação de colunas separadas referente ao ano, mês e dia de utilização"
   ]
  },
  {
   "cell_type": "code",
   "execution_count": 16,
   "id": "e1974663",
   "metadata": {},
   "outputs": [],
   "source": [
    "df['Dia'] = df['Data do Início da Utilização'].dt.day\n",
    "df['Mes'] = df['Data do Início da Utilização'].dt.month\n",
    "df['Ano'] = df['Data do Início da Utilização'].dt.year\n",
    "df.drop(columns='Data do Início da Utilização', inplace=True)"
   ]
  },
  {
   "cell_type": "code",
   "execution_count": 17,
   "id": "183cfb3d",
   "metadata": {
    "scrolled": false
   },
   "outputs": [
    {
     "name": "stdout",
     "output_type": "stream",
     "text": [
      "<class 'pandas.core.frame.DataFrame'>\n",
      "Int64Index: 43076 entries, 423677 to 724361\n",
      "Data columns (total 6 columns):\n",
      " #   Column                 Non-Null Count  Dtype \n",
      "---  ------                 --------------  ----- \n",
      " 0   UF                     43076 non-null  object\n",
      " 1   Município              43076 non-null  object\n",
      " 2   Área do Terreno Total  43076 non-null  object\n",
      " 3   Dia                    43076 non-null  int64 \n",
      " 4   Mes                    43076 non-null  int64 \n",
      " 5   Ano                    43076 non-null  int64 \n",
      "dtypes: int64(3), object(3)\n",
      "memory usage: 2.3+ MB\n"
     ]
    }
   ],
   "source": [
    "df.info()"
   ]
  },
  {
   "cell_type": "code",
   "execution_count": 18,
   "id": "f906a498",
   "metadata": {},
   "outputs": [
    {
     "name": "stderr",
     "output_type": "stream",
     "text": [
      "<ipython-input-18-5deae1322ba4>:5: FutureWarning: The default value of regex will change from True to False in a future version. In addition, single character regular expressions will*not* be treated as literal strings when regex=True.\n",
      "  dfReplace = dfReplace.str.replace('.','')\n"
     ]
    }
   ],
   "source": [
    "# Realizando uma limpeza na coluna da área e mudando o tipo das variáveis  de objeto para float\n",
    "\n",
    "dfReplace = pd.DataFrame()\n",
    "dfReplace = df['Área do Terreno Total'].str.replace(' ','')\n",
    "dfReplace = dfReplace.str.replace('.','')\n",
    "dfReplace = dfReplace.str.replace(',','.')"
   ]
  },
  {
   "cell_type": "code",
   "execution_count": 19,
   "id": "555a3ba1",
   "metadata": {
    "scrolled": true
   },
   "outputs": [
    {
     "name": "stdout",
     "output_type": "stream",
     "text": [
      "<class 'pandas.core.frame.DataFrame'>\n",
      "Int64Index: 43076 entries, 423677 to 724361\n",
      "Data columns (total 7 columns):\n",
      " #   Column                 Non-Null Count  Dtype  \n",
      "---  ------                 --------------  -----  \n",
      " 0   UF                     43076 non-null  object \n",
      " 1   Município              43076 non-null  object \n",
      " 2   Área do Terreno Total  43076 non-null  object \n",
      " 3   Dia                    43076 non-null  int64  \n",
      " 4   Mes                    43076 non-null  int64  \n",
      " 5   Ano                    43076 non-null  int64  \n",
      " 6   Area                   43037 non-null  float32\n",
      "dtypes: float32(1), int64(3), object(3)\n",
      "memory usage: 2.5+ MB\n"
     ]
    }
   ],
   "source": [
    "df['Area'] = pd.to_numeric(dfReplace, errors='coerce', downcast='float')\n",
    "df.info()"
   ]
  },
  {
   "cell_type": "code",
   "execution_count": 20,
   "id": "c412442a",
   "metadata": {},
   "outputs": [
    {
     "data": {
      "text/plain": [
       "UF                        0\n",
       "Município                 0\n",
       "Área do Terreno Total     0\n",
       "Dia                       0\n",
       "Mes                       0\n",
       "Ano                       0\n",
       "Area                     39\n",
       "dtype: int64"
      ]
     },
     "execution_count": 20,
     "metadata": {},
     "output_type": "execute_result"
    }
   ],
   "source": [
    "df.isnull().sum()"
   ]
  },
  {
   "cell_type": "code",
   "execution_count": 21,
   "id": "dd7c591d",
   "metadata": {
    "scrolled": true
   },
   "outputs": [
    {
     "name": "stdout",
     "output_type": "stream",
     "text": [
      "<class 'pandas.core.frame.DataFrame'>\n",
      "Int64Index: 43037 entries, 423677 to 724361\n",
      "Data columns (total 6 columns):\n",
      " #   Column     Non-Null Count  Dtype  \n",
      "---  ------     --------------  -----  \n",
      " 0   UF         43037 non-null  object \n",
      " 1   Município  43037 non-null  object \n",
      " 2   Dia        43037 non-null  int64  \n",
      " 3   Mes        43037 non-null  int64  \n",
      " 4   Ano        43037 non-null  int64  \n",
      " 5   Area       43037 non-null  float32\n",
      "dtypes: float32(1), int64(3), object(2)\n",
      "memory usage: 2.1+ MB\n"
     ]
    }
   ],
   "source": [
    "#Retirando as linhas com valores da variável 'Area' nulo.\n",
    "df.drop(columns='Área do Terreno Total', inplace=True)\n",
    "df.dropna(subset=[\"Area\"], inplace=True)\n",
    "df.info()"
   ]
  },
  {
   "cell_type": "code",
   "execution_count": 22,
   "id": "a04d247d",
   "metadata": {},
   "outputs": [
    {
     "data": {
      "text/plain": [
       "UF           0\n",
       "Município    0\n",
       "Dia          0\n",
       "Mes          0\n",
       "Ano          0\n",
       "Area         0\n",
       "dtype: int64"
      ]
     },
     "execution_count": 22,
     "metadata": {},
     "output_type": "execute_result"
    }
   ],
   "source": [
    "df.isnull().sum()"
   ]
  },
  {
   "cell_type": "code",
   "execution_count": 23,
   "id": "a37ffce6",
   "metadata": {},
   "outputs": [
    {
     "data": {
      "text/plain": [
       "UF\n",
       "BA    6.572948e+09\n",
       "GO    2.819614e+09\n",
       "MT    6.320319e+10\n",
       "RS    2.951686e+09\n",
       "Name: Area, dtype: float32"
      ]
     },
     "execution_count": 23,
     "metadata": {},
     "output_type": "execute_result"
    }
   ],
   "source": [
    "#Agrupamento por de área total por estado\n",
    "df.groupby(df[\"UF\"])[\"Area\"].sum()"
   ]
  },
  {
   "cell_type": "code",
   "execution_count": 24,
   "id": "62c44f71",
   "metadata": {},
   "outputs": [
    {
     "data": {
      "text/plain": [
       "995067264.0"
      ]
     },
     "execution_count": 24,
     "metadata": {},
     "output_type": "execute_result"
    }
   ],
   "source": [
    "#Retornando a maior área\n",
    "df[\"Area\"].max()"
   ]
  },
  {
   "cell_type": "code",
   "execution_count": 25,
   "id": "1f6ad523",
   "metadata": {},
   "outputs": [
    {
     "data": {
      "text/plain": [
       "0.009999999776482582"
      ]
     },
     "execution_count": 25,
     "metadata": {},
     "output_type": "execute_result"
    }
   ],
   "source": [
    "#Retornando a menor área\n",
    "df[\"Area\"].min()"
   ]
  },
  {
   "cell_type": "code",
   "execution_count": 26,
   "id": "2be5a49b",
   "metadata": {},
   "outputs": [
    {
     "data": {
      "text/html": [
       "<div>\n",
       "<style scoped>\n",
       "    .dataframe tbody tr th:only-of-type {\n",
       "        vertical-align: middle;\n",
       "    }\n",
       "\n",
       "    .dataframe tbody tr th {\n",
       "        vertical-align: top;\n",
       "    }\n",
       "\n",
       "    .dataframe thead th {\n",
       "        text-align: right;\n",
       "    }\n",
       "</style>\n",
       "<table border=\"1\" class=\"dataframe\">\n",
       "  <thead>\n",
       "    <tr style=\"text-align: right;\">\n",
       "      <th></th>\n",
       "      <th>UF</th>\n",
       "      <th>Município</th>\n",
       "      <th>Dia</th>\n",
       "      <th>Mes</th>\n",
       "      <th>Ano</th>\n",
       "      <th>Area</th>\n",
       "    </tr>\n",
       "  </thead>\n",
       "  <tbody>\n",
       "    <tr>\n",
       "      <th>661633</th>\n",
       "      <td>MT</td>\n",
       "      <td>SANTA TEREZINHA</td>\n",
       "      <td>1</td>\n",
       "      <td>1</td>\n",
       "      <td>1997</td>\n",
       "      <td>995067264.0</td>\n",
       "    </tr>\n",
       "    <tr>\n",
       "      <th>714363</th>\n",
       "      <td>MT</td>\n",
       "      <td>PARANATINGA</td>\n",
       "      <td>1</td>\n",
       "      <td>1</td>\n",
       "      <td>2000</td>\n",
       "      <td>985000000.0</td>\n",
       "    </tr>\n",
       "    <tr>\n",
       "      <th>666007</th>\n",
       "      <td>MT</td>\n",
       "      <td>COCALINHO</td>\n",
       "      <td>8</td>\n",
       "      <td>3</td>\n",
       "      <td>2016</td>\n",
       "      <td>907880896.0</td>\n",
       "    </tr>\n",
       "    <tr>\n",
       "      <th>687043</th>\n",
       "      <td>BA</td>\n",
       "      <td>PRADO</td>\n",
       "      <td>9</td>\n",
       "      <td>1</td>\n",
       "      <td>2010</td>\n",
       "      <td>895000000.0</td>\n",
       "    </tr>\n",
       "    <tr>\n",
       "      <th>714641</th>\n",
       "      <td>MT</td>\n",
       "      <td>ARIPUANA</td>\n",
       "      <td>1</td>\n",
       "      <td>1</td>\n",
       "      <td>2000</td>\n",
       "      <td>864099968.0</td>\n",
       "    </tr>\n",
       "  </tbody>\n",
       "</table>\n",
       "</div>"
      ],
      "text/plain": [
       "        UF        Município  Dia  Mes   Ano         Area\n",
       "661633  MT  SANTA TEREZINHA    1    1  1997  995067264.0\n",
       "714363  MT      PARANATINGA    1    1  2000  985000000.0\n",
       "666007  MT        COCALINHO    8    3  2016  907880896.0\n",
       "687043  BA            PRADO    9    1  2010  895000000.0\n",
       "714641  MT         ARIPUANA    1    1  2000  864099968.0"
      ]
     },
     "execution_count": 26,
     "metadata": {},
     "output_type": "execute_result"
    }
   ],
   "source": [
    "#Retornando as 5 maiores áreas\n",
    "df.nlargest(5, \"Area\")"
   ]
  },
  {
   "cell_type": "code",
   "execution_count": 27,
   "id": "7fca9dae",
   "metadata": {},
   "outputs": [
    {
     "data": {
      "text/html": [
       "<div>\n",
       "<style scoped>\n",
       "    .dataframe tbody tr th:only-of-type {\n",
       "        vertical-align: middle;\n",
       "    }\n",
       "\n",
       "    .dataframe tbody tr th {\n",
       "        vertical-align: top;\n",
       "    }\n",
       "\n",
       "    .dataframe thead th {\n",
       "        text-align: right;\n",
       "    }\n",
       "</style>\n",
       "<table border=\"1\" class=\"dataframe\">\n",
       "  <thead>\n",
       "    <tr style=\"text-align: right;\">\n",
       "      <th></th>\n",
       "      <th>UF</th>\n",
       "      <th>Município</th>\n",
       "      <th>Dia</th>\n",
       "      <th>Mes</th>\n",
       "      <th>Ano</th>\n",
       "      <th>Area</th>\n",
       "    </tr>\n",
       "  </thead>\n",
       "  <tbody>\n",
       "    <tr>\n",
       "      <th>711333</th>\n",
       "      <td>RS</td>\n",
       "      <td>ALEGRETE</td>\n",
       "      <td>23</td>\n",
       "      <td>4</td>\n",
       "      <td>2018</td>\n",
       "      <td>0.01</td>\n",
       "    </tr>\n",
       "    <tr>\n",
       "      <th>711515</th>\n",
       "      <td>RS</td>\n",
       "      <td>CAMAQUA</td>\n",
       "      <td>14</td>\n",
       "      <td>12</td>\n",
       "      <td>2016</td>\n",
       "      <td>0.01</td>\n",
       "    </tr>\n",
       "    <tr>\n",
       "      <th>712011</th>\n",
       "      <td>RS</td>\n",
       "      <td>FREDERICO WESTPHALEN</td>\n",
       "      <td>21</td>\n",
       "      <td>5</td>\n",
       "      <td>2013</td>\n",
       "      <td>0.01</td>\n",
       "    </tr>\n",
       "    <tr>\n",
       "      <th>712259</th>\n",
       "      <td>RS</td>\n",
       "      <td>ITAQUI</td>\n",
       "      <td>27</td>\n",
       "      <td>11</td>\n",
       "      <td>2017</td>\n",
       "      <td>0.01</td>\n",
       "    </tr>\n",
       "    <tr>\n",
       "      <th>712394</th>\n",
       "      <td>RS</td>\n",
       "      <td>MONTENEGRO</td>\n",
       "      <td>14</td>\n",
       "      <td>12</td>\n",
       "      <td>2016</td>\n",
       "      <td>0.01</td>\n",
       "    </tr>\n",
       "  </tbody>\n",
       "</table>\n",
       "</div>"
      ],
      "text/plain": [
       "        UF             Município  Dia  Mes   Ano  Area\n",
       "711333  RS              ALEGRETE   23    4  2018  0.01\n",
       "711515  RS               CAMAQUA   14   12  2016  0.01\n",
       "712011  RS  FREDERICO WESTPHALEN   21    5  2013  0.01\n",
       "712259  RS                ITAQUI   27   11  2017  0.01\n",
       "712394  RS            MONTENEGRO   14   12  2016  0.01"
      ]
     },
     "execution_count": 27,
     "metadata": {},
     "output_type": "execute_result"
    }
   ],
   "source": [
    "#Retornando as 5 menores áreas\n",
    "df.nsmallest(5, \"Area\")"
   ]
  },
  {
   "cell_type": "code",
   "execution_count": 28,
   "id": "6861b7ee",
   "metadata": {},
   "outputs": [
    {
     "data": {
      "text/html": [
       "<div>\n",
       "<style scoped>\n",
       "    .dataframe tbody tr th:only-of-type {\n",
       "        vertical-align: middle;\n",
       "    }\n",
       "\n",
       "    .dataframe tbody tr th {\n",
       "        vertical-align: top;\n",
       "    }\n",
       "\n",
       "    .dataframe thead th {\n",
       "        text-align: right;\n",
       "    }\n",
       "</style>\n",
       "<table border=\"1\" class=\"dataframe\">\n",
       "  <thead>\n",
       "    <tr style=\"text-align: right;\">\n",
       "      <th></th>\n",
       "      <th>UF</th>\n",
       "      <th>Município</th>\n",
       "      <th>Dia</th>\n",
       "      <th>Mes</th>\n",
       "      <th>Ano</th>\n",
       "      <th>Area</th>\n",
       "    </tr>\n",
       "  </thead>\n",
       "  <tbody>\n",
       "    <tr>\n",
       "      <th>661633</th>\n",
       "      <td>MT</td>\n",
       "      <td>SANTA TEREZINHA</td>\n",
       "      <td>1</td>\n",
       "      <td>1</td>\n",
       "      <td>1997</td>\n",
       "      <td>995067264.0</td>\n",
       "    </tr>\n",
       "    <tr>\n",
       "      <th>714363</th>\n",
       "      <td>MT</td>\n",
       "      <td>PARANATINGA</td>\n",
       "      <td>1</td>\n",
       "      <td>1</td>\n",
       "      <td>2000</td>\n",
       "      <td>985000000.0</td>\n",
       "    </tr>\n",
       "    <tr>\n",
       "      <th>666007</th>\n",
       "      <td>MT</td>\n",
       "      <td>COCALINHO</td>\n",
       "      <td>8</td>\n",
       "      <td>3</td>\n",
       "      <td>2016</td>\n",
       "      <td>907880896.0</td>\n",
       "    </tr>\n",
       "    <tr>\n",
       "      <th>687043</th>\n",
       "      <td>BA</td>\n",
       "      <td>PRADO</td>\n",
       "      <td>9</td>\n",
       "      <td>1</td>\n",
       "      <td>2010</td>\n",
       "      <td>895000000.0</td>\n",
       "    </tr>\n",
       "    <tr>\n",
       "      <th>714641</th>\n",
       "      <td>MT</td>\n",
       "      <td>ARIPUANA</td>\n",
       "      <td>1</td>\n",
       "      <td>1</td>\n",
       "      <td>2000</td>\n",
       "      <td>864099968.0</td>\n",
       "    </tr>\n",
       "    <tr>\n",
       "      <th>77291</th>\n",
       "      <td>MT</td>\n",
       "      <td>SANTA RITA DO TRIVELATO</td>\n",
       "      <td>18</td>\n",
       "      <td>3</td>\n",
       "      <td>2016</td>\n",
       "      <td>859554688.0</td>\n",
       "    </tr>\n",
       "    <tr>\n",
       "      <th>686099</th>\n",
       "      <td>BA</td>\n",
       "      <td>CANAVIEIRAS</td>\n",
       "      <td>26</td>\n",
       "      <td>11</td>\n",
       "      <td>2010</td>\n",
       "      <td>840320000.0</td>\n",
       "    </tr>\n",
       "    <tr>\n",
       "      <th>724295</th>\n",
       "      <td>MT</td>\n",
       "      <td>PORTO ALEGRE DO NORTE</td>\n",
       "      <td>27</td>\n",
       "      <td>12</td>\n",
       "      <td>1999</td>\n",
       "      <td>826737280.0</td>\n",
       "    </tr>\n",
       "    <tr>\n",
       "      <th>715686</th>\n",
       "      <td>MT</td>\n",
       "      <td>GENERAL CARNEIRO</td>\n",
       "      <td>2</td>\n",
       "      <td>11</td>\n",
       "      <td>1987</td>\n",
       "      <td>823011392.0</td>\n",
       "    </tr>\n",
       "    <tr>\n",
       "      <th>659090</th>\n",
       "      <td>MT</td>\n",
       "      <td>PONTES E LACERDA</td>\n",
       "      <td>12</td>\n",
       "      <td>1</td>\n",
       "      <td>2015</td>\n",
       "      <td>800179648.0</td>\n",
       "    </tr>\n",
       "  </tbody>\n",
       "</table>\n",
       "</div>"
      ],
      "text/plain": [
       "        UF                Município  Dia  Mes   Ano         Area\n",
       "661633  MT          SANTA TEREZINHA    1    1  1997  995067264.0\n",
       "714363  MT              PARANATINGA    1    1  2000  985000000.0\n",
       "666007  MT                COCALINHO    8    3  2016  907880896.0\n",
       "687043  BA                    PRADO    9    1  2010  895000000.0\n",
       "714641  MT                 ARIPUANA    1    1  2000  864099968.0\n",
       "77291   MT  SANTA RITA DO TRIVELATO   18    3  2016  859554688.0\n",
       "686099  BA              CANAVIEIRAS   26   11  2010  840320000.0\n",
       "724295  MT    PORTO ALEGRE DO NORTE   27   12  1999  826737280.0\n",
       "715686  MT         GENERAL CARNEIRO    2   11  1987  823011392.0\n",
       "659090  MT         PONTES E LACERDA   12    1  2015  800179648.0"
      ]
     },
     "execution_count": 28,
     "metadata": {},
     "output_type": "execute_result"
    }
   ],
   "source": [
    "#Ordenando o conjunto de dados de acordo com a área\n",
    "df.sort_values(\"Area\", ascending=False).head(10)"
   ]
  },
  {
   "cell_type": "code",
   "execution_count": 29,
   "id": "a9f67848",
   "metadata": {},
   "outputs": [],
   "source": [
    "#Filtrando as propriedades que foram compradas depois de 2019 no estado da Bahia\n",
    "propBahia = df.loc[(df[\"Ano\"] > 2019) & (df[\"UF\"] == 'BA')]"
   ]
  },
  {
   "cell_type": "code",
   "execution_count": 30,
   "id": "c38eb017",
   "metadata": {},
   "outputs": [
    {
     "data": {
      "text/html": [
       "<div>\n",
       "<style scoped>\n",
       "    .dataframe tbody tr th:only-of-type {\n",
       "        vertical-align: middle;\n",
       "    }\n",
       "\n",
       "    .dataframe tbody tr th {\n",
       "        vertical-align: top;\n",
       "    }\n",
       "\n",
       "    .dataframe thead th {\n",
       "        text-align: right;\n",
       "    }\n",
       "</style>\n",
       "<table border=\"1\" class=\"dataframe\">\n",
       "  <thead>\n",
       "    <tr style=\"text-align: right;\">\n",
       "      <th></th>\n",
       "      <th>UF</th>\n",
       "      <th>Município</th>\n",
       "      <th>Dia</th>\n",
       "      <th>Mes</th>\n",
       "      <th>Ano</th>\n",
       "      <th>Area</th>\n",
       "    </tr>\n",
       "  </thead>\n",
       "  <tbody>\n",
       "    <tr>\n",
       "      <th>292786</th>\n",
       "      <td>BA</td>\n",
       "      <td>ILHEUS</td>\n",
       "      <td>23</td>\n",
       "      <td>7</td>\n",
       "      <td>2020</td>\n",
       "      <td>3415.310059</td>\n",
       "    </tr>\n",
       "    <tr>\n",
       "      <th>291571</th>\n",
       "      <td>BA</td>\n",
       "      <td>CAMACARI</td>\n",
       "      <td>8</td>\n",
       "      <td>5</td>\n",
       "      <td>2020</td>\n",
       "      <td>3096.199951</td>\n",
       "    </tr>\n",
       "    <tr>\n",
       "      <th>315621</th>\n",
       "      <td>BA</td>\n",
       "      <td>SALVADOR</td>\n",
       "      <td>23</td>\n",
       "      <td>9</td>\n",
       "      <td>2020</td>\n",
       "      <td>3540.909912</td>\n",
       "    </tr>\n",
       "    <tr>\n",
       "      <th>321146</th>\n",
       "      <td>BA</td>\n",
       "      <td>VERA CRUZ</td>\n",
       "      <td>24</td>\n",
       "      <td>4</td>\n",
       "      <td>2020</td>\n",
       "      <td>532.500000</td>\n",
       "    </tr>\n",
       "    <tr>\n",
       "      <th>314697</th>\n",
       "      <td>BA</td>\n",
       "      <td>SALVADOR</td>\n",
       "      <td>14</td>\n",
       "      <td>8</td>\n",
       "      <td>2020</td>\n",
       "      <td>16656.009766</td>\n",
       "    </tr>\n",
       "    <tr>\n",
       "      <th>291496</th>\n",
       "      <td>BA</td>\n",
       "      <td>CAMACARI</td>\n",
       "      <td>1</td>\n",
       "      <td>7</td>\n",
       "      <td>2020</td>\n",
       "      <td>16744.289062</td>\n",
       "    </tr>\n",
       "    <tr>\n",
       "      <th>319052</th>\n",
       "      <td>BA</td>\n",
       "      <td>VERA CRUZ</td>\n",
       "      <td>24</td>\n",
       "      <td>1</td>\n",
       "      <td>2020</td>\n",
       "      <td>6998.100098</td>\n",
       "    </tr>\n",
       "    <tr>\n",
       "      <th>307862</th>\n",
       "      <td>BA</td>\n",
       "      <td>SALVADOR</td>\n",
       "      <td>20</td>\n",
       "      <td>8</td>\n",
       "      <td>2020</td>\n",
       "      <td>358.899994</td>\n",
       "    </tr>\n",
       "    <tr>\n",
       "      <th>305391</th>\n",
       "      <td>BA</td>\n",
       "      <td>SALVADOR</td>\n",
       "      <td>8</td>\n",
       "      <td>10</td>\n",
       "      <td>2020</td>\n",
       "      <td>2116.280029</td>\n",
       "    </tr>\n",
       "    <tr>\n",
       "      <th>291657</th>\n",
       "      <td>BA</td>\n",
       "      <td>CAMACARI</td>\n",
       "      <td>13</td>\n",
       "      <td>3</td>\n",
       "      <td>2020</td>\n",
       "      <td>5258.399902</td>\n",
       "    </tr>\n",
       "    <tr>\n",
       "      <th>291922</th>\n",
       "      <td>BA</td>\n",
       "      <td>CANAVIEIRAS</td>\n",
       "      <td>8</td>\n",
       "      <td>6</td>\n",
       "      <td>2020</td>\n",
       "      <td>16911.669922</td>\n",
       "    </tr>\n",
       "    <tr>\n",
       "      <th>291530</th>\n",
       "      <td>BA</td>\n",
       "      <td>CAMACARI</td>\n",
       "      <td>17</td>\n",
       "      <td>7</td>\n",
       "      <td>2020</td>\n",
       "      <td>7929.089844</td>\n",
       "    </tr>\n",
       "    <tr>\n",
       "      <th>320492</th>\n",
       "      <td>BA</td>\n",
       "      <td>VERA CRUZ</td>\n",
       "      <td>28</td>\n",
       "      <td>2</td>\n",
       "      <td>2020</td>\n",
       "      <td>801.900024</td>\n",
       "    </tr>\n",
       "    <tr>\n",
       "      <th>291315</th>\n",
       "      <td>BA</td>\n",
       "      <td>CAMACARI</td>\n",
       "      <td>3</td>\n",
       "      <td>4</td>\n",
       "      <td>2020</td>\n",
       "      <td>3033.290039</td>\n",
       "    </tr>\n",
       "    <tr>\n",
       "      <th>317803</th>\n",
       "      <td>BA</td>\n",
       "      <td>VERA CRUZ</td>\n",
       "      <td>2</td>\n",
       "      <td>11</td>\n",
       "      <td>2020</td>\n",
       "      <td>450.000000</td>\n",
       "    </tr>\n",
       "    <tr>\n",
       "      <th>292993</th>\n",
       "      <td>BA</td>\n",
       "      <td>ITACARE</td>\n",
       "      <td>16</td>\n",
       "      <td>1</td>\n",
       "      <td>2020</td>\n",
       "      <td>29967.000000</td>\n",
       "    </tr>\n",
       "    <tr>\n",
       "      <th>685813</th>\n",
       "      <td>BA</td>\n",
       "      <td>MADRE DE DEUS</td>\n",
       "      <td>27</td>\n",
       "      <td>1</td>\n",
       "      <td>2020</td>\n",
       "      <td>14617.940430</td>\n",
       "    </tr>\n",
       "    <tr>\n",
       "      <th>686510</th>\n",
       "      <td>BA</td>\n",
       "      <td>IPIAU</td>\n",
       "      <td>1</td>\n",
       "      <td>2</td>\n",
       "      <td>2020</td>\n",
       "      <td>200.000000</td>\n",
       "    </tr>\n",
       "    <tr>\n",
       "      <th>291544</th>\n",
       "      <td>BA</td>\n",
       "      <td>CAMACARI</td>\n",
       "      <td>29</td>\n",
       "      <td>5</td>\n",
       "      <td>2020</td>\n",
       "      <td>7929.089844</td>\n",
       "    </tr>\n",
       "    <tr>\n",
       "      <th>313000</th>\n",
       "      <td>BA</td>\n",
       "      <td>SALVADOR</td>\n",
       "      <td>24</td>\n",
       "      <td>1</td>\n",
       "      <td>2020</td>\n",
       "      <td>1491.290039</td>\n",
       "    </tr>\n",
       "  </tbody>\n",
       "</table>\n",
       "</div>"
      ],
      "text/plain": [
       "        UF      Município  Dia  Mes   Ano          Area\n",
       "292786  BA         ILHEUS   23    7  2020   3415.310059\n",
       "291571  BA       CAMACARI    8    5  2020   3096.199951\n",
       "315621  BA       SALVADOR   23    9  2020   3540.909912\n",
       "321146  BA      VERA CRUZ   24    4  2020    532.500000\n",
       "314697  BA       SALVADOR   14    8  2020  16656.009766\n",
       "291496  BA       CAMACARI    1    7  2020  16744.289062\n",
       "319052  BA      VERA CRUZ   24    1  2020   6998.100098\n",
       "307862  BA       SALVADOR   20    8  2020    358.899994\n",
       "305391  BA       SALVADOR    8   10  2020   2116.280029\n",
       "291657  BA       CAMACARI   13    3  2020   5258.399902\n",
       "291922  BA    CANAVIEIRAS    8    6  2020  16911.669922\n",
       "291530  BA       CAMACARI   17    7  2020   7929.089844\n",
       "320492  BA      VERA CRUZ   28    2  2020    801.900024\n",
       "291315  BA       CAMACARI    3    4  2020   3033.290039\n",
       "317803  BA      VERA CRUZ    2   11  2020    450.000000\n",
       "292993  BA        ITACARE   16    1  2020  29967.000000\n",
       "685813  BA  MADRE DE DEUS   27    1  2020  14617.940430\n",
       "686510  BA          IPIAU    1    2  2020    200.000000\n",
       "291544  BA       CAMACARI   29    5  2020   7929.089844\n",
       "313000  BA       SALVADOR   24    1  2020   1491.290039"
      ]
     },
     "execution_count": 30,
     "metadata": {},
     "output_type": "execute_result"
    }
   ],
   "source": [
    "propBahia.sample(20)"
   ]
  },
  {
   "cell_type": "markdown",
   "id": "83ba8b8d",
   "metadata": {},
   "source": [
    "# Visualização de dados"
   ]
  },
  {
   "cell_type": "code",
   "execution_count": 31,
   "id": "aa1e789e",
   "metadata": {},
   "outputs": [
    {
     "data": {
      "text/plain": [
       "BA    24710\n",
       "RS    11318\n",
       "MT     5000\n",
       "GO     2009\n",
       "Name: UF, dtype: int64"
      ]
     },
     "execution_count": 31,
     "metadata": {},
     "output_type": "execute_result"
    }
   ],
   "source": [
    "df[\"UF\"].value_counts(ascending=False)"
   ]
  },
  {
   "cell_type": "code",
   "execution_count": 32,
   "id": "75b526a8",
   "metadata": {},
   "outputs": [],
   "source": [
    "import seaborn as sns\n",
    "import matplotlib.pyplot as plt"
   ]
  },
  {
   "cell_type": "code",
   "execution_count": 33,
   "id": "ce64ee69",
   "metadata": {},
   "outputs": [
    {
     "data": {
      "text/plain": [
       "Text(0.5, 1.0, 'Número de propriedades por estado')"
      ]
     },
     "execution_count": 33,
     "metadata": {},
     "output_type": "execute_result"
    },
    {
     "data": {
      "image/png": "[encoded data removed]",
      "text/plain": [
       "<Figure size 720x432 with 1 Axes>"
      ]
     },
     "metadata": {
      "needs_background": "light"
     },
     "output_type": "display_data"
    }
   ],
   "source": [
    "fig_dims = (10, 6)\n",
    "fig, axx = plt.subplots(figsize=fig_dims)\n",
    "\n",
    "sns.set_theme(style=\"whitegrid\")\n",
    "ax = sns.barplot(x=df[\"UF\"].value_counts().index.tolist(), \n",
    "                 y=df[\"UF\"].value_counts(), \n",
    "                 data=df, ax=axx)\n",
    "ax.set_ylabel(\"Propriedades por estado\", fontsize = 13)\n",
    "ax.set_title(\"Número de propriedades por estado\", fontsize = 16)"
   ]
  },
  {
   "cell_type": "code",
   "execution_count": 34,
   "id": "d3f8a04e",
   "metadata": {},
   "outputs": [
    {
     "data": {
      "text/plain": [
       "Text(0.5, 1.0, 'Área total das propriedades por estado')"
      ]
     },
     "execution_count": 34,
     "metadata": {},
     "output_type": "execute_result"
    },
    {
     "data": {
      "image/png": "[encoded data removed]",
      "text/plain": [
       "<Figure size 720x432 with 1 Axes>"
      ]
     },
     "metadata": {},
     "output_type": "display_data"
    }
   ],
   "source": [
    "fig_dims = (10, 6)\n",
    "fig, axx = plt.subplots(figsize=fig_dims)\n",
    "\n",
    "ax = sns.barplot(x=df.groupby(df[\"UF\"])[\"Area\"].sum().index.tolist(), \n",
    "                 y=df.groupby(df[\"UF\"])[\"Area\"].sum(), \n",
    "                 data=df, ax=axx)\n",
    "ax.set_ylabel(\"Área total(m²)\", fontsize = 13)\n",
    "ax.set_title(\"Área total das propriedades por estado\", fontsize = 15)"
   ]
  },
  {
   "cell_type": "code",
   "execution_count": 35,
   "id": "9bcd0d52",
   "metadata": {},
   "outputs": [
    {
     "data": {
      "text/plain": [
       "Text(0.5, 1.0, 'Tamanho médio da área das propriedades por estado')"
      ]
     },
     "execution_count": 35,
     "metadata": {},
     "output_type": "execute_result"
    },
    {
     "data": {
      "image/png": "[encoded data removed]",
      "text/plain": [
       "<Figure size 720x432 with 1 Axes>"
      ]
     },
     "metadata": {},
     "output_type": "display_data"
    }
   ],
   "source": [
    "fig_dims = (10, 6)\n",
    "fig, axx = plt.subplots(figsize=fig_dims)\n",
    "\n",
    "ax = sns.barplot(x=df.groupby(df[\"UF\"])[\"Area\"].mean().index.tolist(),\n",
    "                 y=df.groupby(df[\"UF\"])[\"Area\"].mean(), \n",
    "                 data=df, ax=axx)\n",
    "ax.set_ylabel(\"Tamanho médio(m²)\", fontsize = 13)\n",
    "ax.set_title(\"Tamanho médio da área das propriedades por estado\", fontsize = 15)"
   ]
  },
  {
   "cell_type": "markdown",
   "id": "1d1dcc3c",
   "metadata": {},
   "source": [
    "### Gráfico de pizza"
   ]
  },
  {
   "cell_type": "markdown",
   "id": "520d8722",
   "metadata": {},
   "source": [
    "### Porcentagem de cada estado em relação ao número total de propriedades"
   ]
  },
  {
   "cell_type": "code",
   "execution_count": 36,
   "id": "60e3b8a5",
   "metadata": {},
   "outputs": [
    {
     "data": {
      "image/png": "[encoded data removed]",
      "text/plain": [
       "<Figure size 432x288 with 1 Axes>"
      ]
     },
     "metadata": {},
     "output_type": "display_data"
    }
   ],
   "source": [
    "colors = sns.color_palette('pastel')[0:4]\n",
    "plt.pie(df[\"UF\"].value_counts(), labels = df[\"UF\"].value_counts().index.tolist(), \n",
    "        colors = colors, autopct='%.0f%%')\n",
    "plt.title('Porcentagem do número total de propriedades', fontsize = 15)\n",
    "plt.show()"
   ]
  },
  {
   "cell_type": "markdown",
   "id": "18bdd91d",
   "metadata": {},
   "source": [
    "## Municípios gaúchos com maior área de territórios pertencentes a União"
   ]
  },
  {
   "cell_type": "code",
   "execution_count": 37,
   "id": "adc80001",
   "metadata": {},
   "outputs": [
    {
     "data": {
      "text/plain": [
       "Text(0.5, 0, 'Área total(m²)')"
      ]
     },
     "execution_count": 37,
     "metadata": {},
     "output_type": "execute_result"
    },
    {
     "data": {
      "image/png": "[encoded data removed]",
      "text/plain": [
       "<Figure size 720x432 with 1 Axes>"
      ]
     },
     "metadata": {},
     "output_type": "display_data"
    }
   ],
   "source": [
    "fig_dims = (10, 6)\n",
    "fig, axx = plt.subplots(figsize=fig_dims)\n",
    "\n",
    "ax = sns.barplot(x = df.loc[(df[\"UF\"] == 'RS')].nlargest(10, \"Area\")['Area'].values.tolist(), \n",
    "                 y=df.loc[(df[\"UF\"] == 'RS')].nlargest(10, \"Area\")['Município'].values.tolist(), \n",
    "                 data=df, ax=axx)\n",
    "plt.title('Municípios gaúchos com maior área de territórios pertencentes a União', fontsize = 15)\n",
    "ax.set_xlabel('Área total(m²)')"
   ]
  },
  {
   "cell_type": "markdown",
   "id": "629a9607",
   "metadata": {},
   "source": [
    "## Propriedades adquiridas por ano"
   ]
  },
  {
   "cell_type": "code",
   "execution_count": 38,
   "id": "67ecb808",
   "metadata": {},
   "outputs": [
    {
     "name": "stdout",
     "output_type": "stream",
     "text": [
      "    ano  propriedades\n",
      "0  1770            10\n",
      "1  1808             1\n",
      "2  1894             1\n",
      "3  1896             1\n",
      "4  1906             1\n",
      "      ano  propriedades\n",
      "108  2016          1388\n",
      "109  2017          1187\n",
      "110  2018          1380\n",
      "111  2019          1281\n",
      "112  2020           575\n"
     ]
    }
   ],
   "source": [
    "dfPlot = pd.DataFrame()\n",
    "dfPlot['ano'] = df.groupby(df[\"Ano\"]).count().index.tolist()\n",
    "dfPlot['propriedades'] = df.groupby(\"Ano\")['UF'].count().values.tolist()\n",
    "\n",
    "dfPlot.drop(dfPlot.index)\n",
    "print(dfPlot.head(5))\n",
    "print(dfPlot.tail(5))"
   ]
  },
  {
   "cell_type": "code",
   "execution_count": 39,
   "id": "2ea2481d",
   "metadata": {},
   "outputs": [
    {
     "name": "stderr",
     "output_type": "stream",
     "text": [
      "<ipython-input-39-f1823f18d7a3>:10: UserWarning: FixedFormatter should only be used together with FixedLocator\n",
      "  ax.set_xticklabels(range(dfPlot['ano'].min(), dfPlot['ano'].max()+1, 5), rotation = 90)\n"
     ]
    },
    {
     "data": {
      "text/plain": [
       "(1770.0, 2020.0)"
      ]
     },
     "execution_count": 39,
     "metadata": {},
     "output_type": "execute_result"
    },
    {
     "data": {
      "image/png": "[encoded data removed]",
      "text/plain": [
       "<Figure size 1080x432 with 1 Axes>"
      ]
     },
     "metadata": {},
     "output_type": "display_data"
    }
   ],
   "source": [
    "fig_dims = (15, 6)\n",
    "fig, axx = plt.subplots(figsize=fig_dims)\n",
    "\n",
    "ax = sns.lineplot(x = dfPlot['ano'], \n",
    "             y = dfPlot['propriedades'],\n",
    "             linewidth=2, ax=axx)\n",
    "ax.set_title('Número de propriedades adquiridas por ano', fontsize = 20)\n",
    "ax.set_ylabel('Propriedades adquiridas', fontsize = 15)\n",
    "ax.set_xlabel('Ano', fontsize = 15)\n",
    "ax.set_xticklabels(range(dfPlot['ano'].min(), dfPlot['ano'].max()+1, 5), rotation = 90)\n",
    "ax.set_xticks(range(dfPlot['ano'].min(), dfPlot['ano'].max()+1, 5))\n",
    "ax.set_xlim(dfPlot['ano'].min(), dfPlot['ano'].max())"
   ]
  },
  {
   "cell_type": "code",
   "execution_count": 40,
   "id": "0f8ab2e6",
   "metadata": {},
   "outputs": [],
   "source": [
    "dfRS = pd.DataFrame()\n",
    "dfRS['ano'] = df.loc[df['UF'] == 'RS'].groupby(df[\"Ano\"]).count().index.tolist()\n",
    "dfRS['propriedades'] = df.loc[df['UF'] == 'RS'].groupby(\"Ano\")['UF'].count().values.tolist()\n",
    "dfRS['UF'] = 'RS'\n",
    "\n",
    "dfGO = pd.DataFrame()\n",
    "dfGO['ano'] = df.loc[df['UF'] == 'GO'].groupby(df[\"Ano\"]).count().index.tolist()\n",
    "dfGO['propriedades'] = df.loc[df['UF'] == 'GO'].groupby(\"Ano\")['UF'].count().values.tolist()\n",
    "dfGO['UF'] = 'GO'\n",
    "\n",
    "dfBA = pd.DataFrame()\n",
    "dfBA['ano'] = df.loc[df['UF'] == 'BA'].groupby(df[\"Ano\"]).count().index.tolist()\n",
    "dfBA['propriedades'] = df.loc[df['UF'] == 'BA'].groupby(\"Ano\")['UF'].count().values.tolist()\n",
    "dfBA['UF'] = 'BA'\n",
    "\n",
    "dfMT = pd.DataFrame()\n",
    "dfMT['ano'] = df.loc[df['UF'] == 'MT'].groupby(df[\"Ano\"]).count().index.tolist()\n",
    "dfMT['propriedades'] = df.loc[df['UF'] == 'MT'].groupby(\"Ano\")['UF'].count().values.tolist()\n",
    "dfMT['UF'] = 'MT'\n",
    "\n",
    "dfPlot = pd.concat([dfRS, dfBA, dfGO, dfMT])\n",
    "dfPlot = dfPlot.loc[(dfPlot['ano'] >= 1900)]"
   ]
  },
  {
   "cell_type": "markdown",
   "id": "e5bd29c7",
   "metadata": {},
   "source": [
    "## Número de propriedades adquiridas em cada estado a partir de do ano de 1900"
   ]
  },
  {
   "cell_type": "code",
   "execution_count": 41,
   "id": "6dc93322",
   "metadata": {},
   "outputs": [
    {
     "name": "stderr",
     "output_type": "stream",
     "text": [
      "/home/vasco/anaconda3/lib/python3.8/site-packages/seaborn/_decorators.py:36: FutureWarning: Pass the following variables as keyword args: x, y. From version 0.12, the only valid positional argument will be `data`, and passing other arguments without an explicit keyword will result in an error or misinterpretation.\n",
      "  warnings.warn(\n",
      "<ipython-input-41-903f7c6aba5f>:10: UserWarning: FixedFormatter should only be used together with FixedLocator\n",
      "  ax.set_xticklabels(range(dfPlot['ano'].min(), dfPlot['ano'].max()+1, 2), rotation = 90)\n"
     ]
    },
    {
     "data": {
      "text/plain": [
       "<matplotlib.legend.Legend at 0x7fc566215f10>"
      ]
     },
     "execution_count": 41,
     "metadata": {},
     "output_type": "execute_result"
    },
    {
     "data": {
      "image/png": "[encoded data removed]",
      "text/plain": [
       "<Figure size 1080x432 with 1 Axes>"
      ]
     },
     "metadata": {},
     "output_type": "display_data"
    }
   ],
   "source": [
    "fig_dims = (15, 6)\n",
    "fig, axx = plt.subplots(figsize=fig_dims)\n",
    "\n",
    "ax = sns.lineplot('ano', \n",
    "             'propriedades',\n",
    "             linewidth=1.5, ax=axx, data = dfPlot, hue='UF')\n",
    "ax.set_title('Número de propriedades adquiridas por ano', fontsize = 20)\n",
    "ax.set_ylabel('Propriedades adquiridas', fontsize = 15)\n",
    "ax.set_xlabel('Ano', fontsize = 15)\n",
    "ax.set_xticklabels(range(dfPlot['ano'].min(), dfPlot['ano'].max()+1, 2), rotation = 90)\n",
    "ax.set_xticks(range(dfPlot['ano'].min(), dfPlot['ano'].max()+1, 2))\n",
    "ax.set_xlim(dfPlot['ano'].min(), dfPlot['ano'].max())\n",
    "ax.legend(loc='upper right', title='UF', bbox_to_anchor=(1.08, 1))"
   ]
  },
  {
   "cell_type": "code",
   "execution_count": 47,
   "id": "ca3fa328",
   "metadata": {},
   "outputs": [
    {
     "name": "stderr",
     "output_type": "stream",
     "text": [
      "<ipython-input-47-27dad3087ecc>:4: SettingWithCopyWarning: \n",
      "A value is trying to be set on a copy of a slice from a DataFrame\n",
      "\n",
      "See the caveats in the documentation: https://pandas.pydata.org/pandas-docs/stable/user_guide/indexing.html#returning-a-view-versus-a-copy\n",
      "  dfPlot2009.sort_values(by='Mes', inplace= True)\n",
      "/home/vasco/anaconda3/lib/python3.8/site-packages/pandas/core/frame.py:4524: SettingWithCopyWarning: \n",
      "A value is trying to be set on a copy of a slice from a DataFrame\n",
      "\n",
      "See the caveats in the documentation: https://pandas.pydata.org/pandas-docs/stable/user_guide/indexing.html#returning-a-view-versus-a-copy\n",
      "  return super().replace(\n"
     ]
    },
    {
     "data": {
      "text/plain": [
       "Text(0.5, 0, 'Mês')"
      ]
     },
     "execution_count": 47,
     "metadata": {},
     "output_type": "execute_result"
    },
    {
     "data": {
      "image/png": "[encoded data removed]",
      "text/plain": [
       "<Figure size 1080x432 with 1 Axes>"
      ]
     },
     "metadata": {},
     "output_type": "display_data"
    }
   ],
   "source": [
    "dfPlot2009 = df.loc[(df['Ano'] == 2009)]\n",
    "dfPlot2009.sort_values(by=['Mes'])\n",
    "\n",
    "dfPlot2009.sort_values(by='Mes', inplace= True)\n",
    "dfPlot2009.replace({1:'Jan', 2:'Fev', 3:'Mar', 4:'Abr', 5:'Mai',6:'Jun',\n",
    "                    7:'Jul',8:'Ago',9:'Set',10:'Out',11:'Nov',12:'Dez'}, inplace=True)\n",
    "fig_dims = (15, 6)\n",
    "fig, axx = plt.subplots(figsize=fig_dims)\n",
    "\n",
    "ax = sns.histplot(dfPlot2009['Mes'])\n",
    "ax.set_title('Número de propriedades adquiridas em 2009 por mês', fontsize = 20)\n",
    "ax.set_ylabel('Propriedades adquiridas', fontsize = 15)\n",
    "ax.set_xlabel('Mês', fontsize = 15)"
   ]
  },
  {
   "cell_type": "code",
   "execution_count": null,
   "id": "3dceb9f9",
   "metadata": {},
   "outputs": [],
   "source": []
  }
 ],
 "metadata": {
  "kernelspec": {
   "display_name": "Python 3",
   "language": "python",
   "name": "python3"
  },
  "language_info": {
   "codemirror_mode": {
    "name": "ipython",
    "version": 3
   },
   "file_extension": ".py",
   "mimetype": "text/x-python",
   "name": "python",
   "nbconvert_exporter": "python",
   "pygments_lexer": "ipython3",
   "version": "3.8.8"
  }
 },
 "nbformat": 4,
 "nbformat_minor": 5
}

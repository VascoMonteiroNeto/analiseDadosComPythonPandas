{
 "cells": [
  {
   "cell_type": "markdown",
   "id": "7739080b",
   "metadata": {},
   "source": [
    "# **Python para análise de dados(Pandas)** - *Vasco Monteiro Neto*"
   ]
  },
  {
   "cell_type": "markdown",
   "id": "5dfd09f8",
   "metadata": {},
   "source": [
    "### O banco de dados usado nesse notebook foi retirado da plataforma do CENIPA, e é composto por informações acerca de acidentes aéreos ocorridos no Brasil."
   ]
  },
  {
   "cell_type": "markdown",
   "id": "87fb192f",
   "metadata": {},
   "source": [
    "# Principais conceitos da aula 3"
   ]
  },
  {
   "cell_type": "code",
   "execution_count": 1,
   "id": "0baebf74",
   "metadata": {},
   "outputs": [],
   "source": [
    "import pandas as pd"
   ]
  },
  {
   "cell_type": "code",
   "execution_count": 2,
   "id": "0fd498dd",
   "metadata": {},
   "outputs": [],
   "source": [
    "df = pd.read_csv('Analise-Tabeladalistadasescolas-Detalhado.csv', error_bad_lines=False, sep=';')"
   ]
  },
  {
   "cell_type": "code",
   "execution_count": 3,
   "id": "06c4a1e4",
   "metadata": {},
   "outputs": [
    {
     "data": {
      "text/html": [
       "<div>\n",
       "<style scoped>\n",
       "    .dataframe tbody tr th:only-of-type {\n",
       "        vertical-align: middle;\n",
       "    }\n",
       "\n",
       "    .dataframe tbody tr th {\n",
       "        vertical-align: top;\n",
       "    }\n",
       "\n",
       "    .dataframe thead th {\n",
       "        text-align: right;\n",
       "    }\n",
       "</style>\n",
       "<table border=\"1\" class=\"dataframe\">\n",
       "  <thead>\n",
       "    <tr style=\"text-align: right;\">\n",
       "      <th></th>\n",
       "      <th>Restrição de Atendimento</th>\n",
       "      <th>Escola</th>\n",
       "      <th>Código INEP</th>\n",
       "      <th>UF</th>\n",
       "      <th>Município</th>\n",
       "      <th>Localização</th>\n",
       "      <th>Localidade Diferenciada</th>\n",
       "      <th>Categoria Administrativa</th>\n",
       "      <th>Endereço</th>\n",
       "      <th>Telefone</th>\n",
       "      <th>Dependência Administrativa</th>\n",
       "      <th>Categoria Escola Privada</th>\n",
       "      <th>Conveniada Poder Público</th>\n",
       "      <th>Regulamentação pelo Conselho de Educação</th>\n",
       "      <th>Porte da Escola</th>\n",
       "      <th>Etapas e Modalidade de Ensino Oferecidas</th>\n",
       "      <th>Outras Ofertas Educacionais</th>\n",
       "      <th>Latitude</th>\n",
       "      <th>Longitude</th>\n",
       "    </tr>\n",
       "  </thead>\n",
       "  <tbody>\n",
       "    <tr>\n",
       "      <th>0</th>\n",
       "      <td>ESCOLA ATENDE EXCLUSIVAMENTE ALUNOS COM DEFICI...</td>\n",
       "      <td>EEEE ABNAEL MACHADO DE LIMA - CENE</td>\n",
       "      <td>11000023</td>\n",
       "      <td>RO</td>\n",
       "      <td>Porto Velho</td>\n",
       "      <td>Urbana</td>\n",
       "      <td>A escola não está em área de localização difer...</td>\n",
       "      <td>Pública</td>\n",
       "      <td>AVENIDA AMAZONAS, 6492 ZONA LESTE. TIRADENTES....</td>\n",
       "      <td>(69) 992083054</td>\n",
       "      <td>Estadual</td>\n",
       "      <td>Não Informado</td>\n",
       "      <td>Não</td>\n",
       "      <td>Não</td>\n",
       "      <td>Entre 51 e 200 matrículas de escolarização</td>\n",
       "      <td>Ensino Fundamental</td>\n",
       "      <td>Atendimento Educacional Especializado</td>\n",
       "      <td>-8.758459</td>\n",
       "      <td>-63.854011</td>\n",
       "    </tr>\n",
       "    <tr>\n",
       "      <th>1</th>\n",
       "      <td>ESCOLA EM FUNCIONAMENTO E SEM RESTRIÇÃO DE ATE...</td>\n",
       "      <td>EMEIEF PEQUENOS TALENTOS</td>\n",
       "      <td>11000040</td>\n",
       "      <td>RO</td>\n",
       "      <td>Porto Velho</td>\n",
       "      <td>Urbana</td>\n",
       "      <td>A escola não está em área de localização difer...</td>\n",
       "      <td>Pública</td>\n",
       "      <td>RUA CAETANO, 3256 PREDIO. CALADINHO. 76808-108...</td>\n",
       "      <td>(69) 32135237</td>\n",
       "      <td>Municipal</td>\n",
       "      <td>Não Informado</td>\n",
       "      <td>Não</td>\n",
       "      <td>Sim</td>\n",
       "      <td>Entre 201 e 500 matrículas de escolarização</td>\n",
       "      <td>Educação Infantil</td>\n",
       "      <td>NaN</td>\n",
       "      <td>-8.793730</td>\n",
       "      <td>-63.883919</td>\n",
       "    </tr>\n",
       "    <tr>\n",
       "      <th>2</th>\n",
       "      <td>ESCOLA EM FUNCIONAMENTO E SEM RESTRIÇÃO DE ATE...</td>\n",
       "      <td>EMEF PROF HERBERT DE ALENCAR</td>\n",
       "      <td>11000201</td>\n",
       "      <td>RO</td>\n",
       "      <td>Porto Velho</td>\n",
       "      <td>Urbana</td>\n",
       "      <td>A escola não está em área de localização difer...</td>\n",
       "      <td>Pública</td>\n",
       "      <td>RUA MANOEL LAURENTINO DE SOUZA, 1299 NOVA PORT...</td>\n",
       "      <td>(69) 32123104</td>\n",
       "      <td>Municipal</td>\n",
       "      <td>Não Informado</td>\n",
       "      <td>Não</td>\n",
       "      <td>Em Tramitação</td>\n",
       "      <td>Entre 201 e 500 matrículas de escolarização</td>\n",
       "      <td>Ensino Fundamental</td>\n",
       "      <td>NaN</td>\n",
       "      <td>-8.764006</td>\n",
       "      <td>-63.878267</td>\n",
       "    </tr>\n",
       "    <tr>\n",
       "      <th>3</th>\n",
       "      <td>ESCOLA EM FUNCIONAMENTO E SEM RESTRIÇÃO DE ATE...</td>\n",
       "      <td>COLEGIO TIRADENTES DA POLICIA MILITAR DO ESTAD...</td>\n",
       "      <td>11000260</td>\n",
       "      <td>RO</td>\n",
       "      <td>Porto Velho</td>\n",
       "      <td>Urbana</td>\n",
       "      <td>A escola não está em área de localização difer...</td>\n",
       "      <td>Pública</td>\n",
       "      <td>AVENIDA DOS IMIGRANTES, 4884 INDUSTRIAL. 76821...</td>\n",
       "      <td>(69) 32250051</td>\n",
       "      <td>Estadual</td>\n",
       "      <td>Não Informado</td>\n",
       "      <td>Não</td>\n",
       "      <td>Em Tramitação</td>\n",
       "      <td>Mais de 1000 matrículas de escolarização</td>\n",
       "      <td>Educação Infantil, Ensino Fundamental, Ensino ...</td>\n",
       "      <td>Atendimento Educacional Especializado</td>\n",
       "      <td>-8.738268</td>\n",
       "      <td>-63.879088</td>\n",
       "    </tr>\n",
       "    <tr>\n",
       "      <th>4</th>\n",
       "      <td>ESCOLA EM FUNCIONAMENTO E SEM RESTRIÇÃO DE ATE...</td>\n",
       "      <td>ESCOLA MUNICIPAL DE EDUCACAO INFANTIL MARISE C...</td>\n",
       "      <td>11000309</td>\n",
       "      <td>RO</td>\n",
       "      <td>Porto Velho</td>\n",
       "      <td>Urbana</td>\n",
       "      <td>A escola não está em área de localização difer...</td>\n",
       "      <td>Pública</td>\n",
       "      <td>RUA PIO XII, S/N PEDRINHAS. 76801-475 Porto Ve...</td>\n",
       "      <td>(69) 32243662</td>\n",
       "      <td>Municipal</td>\n",
       "      <td>Não Informado</td>\n",
       "      <td>Não</td>\n",
       "      <td>Não</td>\n",
       "      <td>Entre 201 e 500 matrículas de escolarização</td>\n",
       "      <td>Educação Infantil</td>\n",
       "      <td>Atendimento Educacional Especializado</td>\n",
       "      <td>-8.750817</td>\n",
       "      <td>-63.908701</td>\n",
       "    </tr>\n",
       "  </tbody>\n",
       "</table>\n",
       "</div>"
      ],
      "text/plain": [
       "                            Restrição de Atendimento  \\\n",
       "0  ESCOLA ATENDE EXCLUSIVAMENTE ALUNOS COM DEFICI...   \n",
       "1  ESCOLA EM FUNCIONAMENTO E SEM RESTRIÇÃO DE ATE...   \n",
       "2  ESCOLA EM FUNCIONAMENTO E SEM RESTRIÇÃO DE ATE...   \n",
       "3  ESCOLA EM FUNCIONAMENTO E SEM RESTRIÇÃO DE ATE...   \n",
       "4  ESCOLA EM FUNCIONAMENTO E SEM RESTRIÇÃO DE ATE...   \n",
       "\n",
       "                                              Escola  Código INEP  UF  \\\n",
       "0                 EEEE ABNAEL MACHADO DE LIMA - CENE     11000023  RO   \n",
       "1                           EMEIEF PEQUENOS TALENTOS     11000040  RO   \n",
       "2                       EMEF PROF HERBERT DE ALENCAR     11000201  RO   \n",
       "3  COLEGIO TIRADENTES DA POLICIA MILITAR DO ESTAD...     11000260  RO   \n",
       "4  ESCOLA MUNICIPAL DE EDUCACAO INFANTIL MARISE C...     11000309  RO   \n",
       "\n",
       "     Município Localização                            Localidade Diferenciada  \\\n",
       "0  Porto Velho      Urbana  A escola não está em área de localização difer...   \n",
       "1  Porto Velho      Urbana  A escola não está em área de localização difer...   \n",
       "2  Porto Velho      Urbana  A escola não está em área de localização difer...   \n",
       "3  Porto Velho      Urbana  A escola não está em área de localização difer...   \n",
       "4  Porto Velho      Urbana  A escola não está em área de localização difer...   \n",
       "\n",
       "  Categoria Administrativa                                           Endereço  \\\n",
       "0                  Pública  AVENIDA AMAZONAS, 6492 ZONA LESTE. TIRADENTES....   \n",
       "1                  Pública  RUA CAETANO, 3256 PREDIO. CALADINHO. 76808-108...   \n",
       "2                  Pública  RUA MANOEL LAURENTINO DE SOUZA, 1299 NOVA PORT...   \n",
       "3                  Pública  AVENIDA DOS IMIGRANTES, 4884 INDUSTRIAL. 76821...   \n",
       "4                  Pública  RUA PIO XII, S/N PEDRINHAS. 76801-475 Porto Ve...   \n",
       "\n",
       "         Telefone Dependência Administrativa Categoria Escola Privada  \\\n",
       "0  (69) 992083054                   Estadual            Não Informado   \n",
       "1   (69) 32135237                  Municipal            Não Informado   \n",
       "2   (69) 32123104                  Municipal            Não Informado   \n",
       "3   (69) 32250051                   Estadual            Não Informado   \n",
       "4   (69) 32243662                  Municipal            Não Informado   \n",
       "\n",
       "  Conveniada Poder Público Regulamentação pelo Conselho de Educação  \\\n",
       "0                      Não                                      Não   \n",
       "1                      Não                                      Sim   \n",
       "2                      Não                            Em Tramitação   \n",
       "3                      Não                            Em Tramitação   \n",
       "4                      Não                                      Não   \n",
       "\n",
       "                               Porte da Escola  \\\n",
       "0   Entre 51 e 200 matrículas de escolarização   \n",
       "1  Entre 201 e 500 matrículas de escolarização   \n",
       "2  Entre 201 e 500 matrículas de escolarização   \n",
       "3     Mais de 1000 matrículas de escolarização   \n",
       "4  Entre 201 e 500 matrículas de escolarização   \n",
       "\n",
       "            Etapas e Modalidade de Ensino Oferecidas  \\\n",
       "0                                 Ensino Fundamental   \n",
       "1                                  Educação Infantil   \n",
       "2                                 Ensino Fundamental   \n",
       "3  Educação Infantil, Ensino Fundamental, Ensino ...   \n",
       "4                                  Educação Infantil   \n",
       "\n",
       "             Outras Ofertas Educacionais  Latitude  Longitude  \n",
       "0  Atendimento Educacional Especializado -8.758459 -63.854011  \n",
       "1                                    NaN -8.793730 -63.883919  \n",
       "2                                    NaN -8.764006 -63.878267  \n",
       "3  Atendimento Educacional Especializado -8.738268 -63.879088  \n",
       "4  Atendimento Educacional Especializado -8.750817 -63.908701  "
      ]
     },
     "execution_count": 3,
     "metadata": {},
     "output_type": "execute_result"
    }
   ],
   "source": [
    "df.head()"
   ]
  },
  {
   "cell_type": "code",
   "execution_count": 4,
   "id": "732293fa",
   "metadata": {},
   "outputs": [
    {
     "name": "stdout",
     "output_type": "stream",
     "text": [
      "<class 'pandas.core.frame.DataFrame'>\n",
      "RangeIndex: 171631 entries, 0 to 171630\n",
      "Data columns (total 19 columns):\n",
      " #   Column                                    Non-Null Count   Dtype  \n",
      "---  ------                                    --------------   -----  \n",
      " 0   Restrição de Atendimento                  171631 non-null  object \n",
      " 1   Escola                                    171631 non-null  object \n",
      " 2   Código INEP                               171631 non-null  int64  \n",
      " 3   UF                                        171631 non-null  object \n",
      " 4   Município                                 171631 non-null  object \n",
      " 5   Localização                               171631 non-null  object \n",
      " 6   Localidade Diferenciada                   171631 non-null  object \n",
      " 7   Categoria Administrativa                  171631 non-null  object \n",
      " 8   Endereço                                  171631 non-null  object \n",
      " 9   Telefone                                  129751 non-null  object \n",
      " 10  Dependência Administrativa                171631 non-null  object \n",
      " 11  Categoria Escola Privada                  171631 non-null  object \n",
      " 12  Conveniada Poder Público                  171631 non-null  object \n",
      " 13  Regulamentação pelo Conselho de Educação  140242 non-null  object \n",
      " 14  Porte da Escola                           140242 non-null  object \n",
      " 15  Etapas e Modalidade de Ensino Oferecidas  139161 non-null  object \n",
      " 16  Outras Ofertas Educacionais               44195 non-null   object \n",
      " 17  Latitude                                  119149 non-null  float64\n",
      " 18  Longitude                                 119149 non-null  float64\n",
      "dtypes: float64(2), int64(1), object(16)\n",
      "memory usage: 24.9+ MB\n"
     ]
    }
   ],
   "source": [
    "df.info()"
   ]
  },
  {
   "cell_type": "code",
   "execution_count": 5,
   "id": "306588e5",
   "metadata": {},
   "outputs": [
    {
     "data": {
      "text/html": [
       "<div>\n",
       "<style scoped>\n",
       "    .dataframe tbody tr th:only-of-type {\n",
       "        vertical-align: middle;\n",
       "    }\n",
       "\n",
       "    .dataframe tbody tr th {\n",
       "        vertical-align: top;\n",
       "    }\n",
       "\n",
       "    .dataframe thead th {\n",
       "        text-align: right;\n",
       "    }\n",
       "</style>\n",
       "<table border=\"1\" class=\"dataframe\">\n",
       "  <thead>\n",
       "    <tr style=\"text-align: right;\">\n",
       "      <th></th>\n",
       "      <th>Restrição de Atendimento</th>\n",
       "      <th>Escola</th>\n",
       "      <th>Código INEP</th>\n",
       "      <th>UF</th>\n",
       "      <th>Município</th>\n",
       "      <th>Localização</th>\n",
       "      <th>Localidade Diferenciada</th>\n",
       "      <th>Categoria Administrativa</th>\n",
       "      <th>Endereço</th>\n",
       "      <th>Telefone</th>\n",
       "      <th>Dependência Administrativa</th>\n",
       "      <th>Categoria Escola Privada</th>\n",
       "      <th>Conveniada Poder Público</th>\n",
       "      <th>Regulamentação pelo Conselho de Educação</th>\n",
       "      <th>Porte da Escola</th>\n",
       "      <th>Etapas e Modalidade de Ensino Oferecidas</th>\n",
       "      <th>Outras Ofertas Educacionais</th>\n",
       "      <th>Latitude</th>\n",
       "      <th>Longitude</th>\n",
       "    </tr>\n",
       "  </thead>\n",
       "  <tbody>\n",
       "    <tr>\n",
       "      <th>171626</th>\n",
       "      <td>ESCOLA EM FUNCIONAMENTO E SEM RESTRIÇÃO DE ATE...</td>\n",
       "      <td>EC 01 DO PORTO RICO</td>\n",
       "      <td>53068190</td>\n",
       "      <td>DF</td>\n",
       "      <td>Brasília</td>\n",
       "      <td>Urbana</td>\n",
       "      <td>A escola não está em área de localização difer...</td>\n",
       "      <td>Pública</td>\n",
       "      <td>CONDOMINIO PORTO RICO, 14C QUADRA 17 3ª ETAPA....</td>\n",
       "      <td>(61) 39016599</td>\n",
       "      <td>Estadual</td>\n",
       "      <td>Não Informado</td>\n",
       "      <td>Não</td>\n",
       "      <td>Sim</td>\n",
       "      <td>Entre 501 e 1000 matrículas de escolarização</td>\n",
       "      <td>Educação Infantil, Ensino Fundamental</td>\n",
       "      <td>Atendimento Educacional Especializado</td>\n",
       "      <td>-16.035024</td>\n",
       "      <td>-48.017546</td>\n",
       "    </tr>\n",
       "    <tr>\n",
       "      <th>171627</th>\n",
       "      <td>ESCOLA EM FUNCIONAMENTO E SEM RESTRIÇÃO DE ATE...</td>\n",
       "      <td>EC 02 DO ITAPOA</td>\n",
       "      <td>53068203</td>\n",
       "      <td>DF</td>\n",
       "      <td>Brasília</td>\n",
       "      <td>Urbana</td>\n",
       "      <td>A escola não está em área de localização difer...</td>\n",
       "      <td>Pública</td>\n",
       "      <td>AREA ITAPOA QUADRA 378 CONJUNTO L AREA ESPECIA...</td>\n",
       "      <td>(61) 39013028</td>\n",
       "      <td>Estadual</td>\n",
       "      <td>Não Informado</td>\n",
       "      <td>Não</td>\n",
       "      <td>Sim</td>\n",
       "      <td>Entre 501 e 1000 matrículas de escolarização</td>\n",
       "      <td>Educação Infantil, Ensino Fundamental</td>\n",
       "      <td>Atendimento Educacional Especializado</td>\n",
       "      <td>-15.739828</td>\n",
       "      <td>-47.763291</td>\n",
       "    </tr>\n",
       "    <tr>\n",
       "      <th>171628</th>\n",
       "      <td>ESCOLA EM FUNCIONAMENTO E SEM RESTRIÇÃO DE ATE...</td>\n",
       "      <td>CEF MIGUEL ARCANJO</td>\n",
       "      <td>53068211</td>\n",
       "      <td>DF</td>\n",
       "      <td>Brasília</td>\n",
       "      <td>Urbana</td>\n",
       "      <td>A escola não está em área de localização difer...</td>\n",
       "      <td>Pública</td>\n",
       "      <td>QUADRA 2, 03 AREA ESPECIAL. SAO BARTOLOMEU SAO...</td>\n",
       "      <td>(61) 39013166</td>\n",
       "      <td>Estadual</td>\n",
       "      <td>Não Informado</td>\n",
       "      <td>Não</td>\n",
       "      <td>Sim</td>\n",
       "      <td>Mais de 1000 matrículas de escolarização</td>\n",
       "      <td>Ensino Fundamental</td>\n",
       "      <td>Atendimento Educacional Especializado, Ativida...</td>\n",
       "      <td>-15.892592</td>\n",
       "      <td>-47.781219</td>\n",
       "    </tr>\n",
       "    <tr>\n",
       "      <th>171629</th>\n",
       "      <td>ESCOLA EM FUNCIONAMENTO E SEM RESTRIÇÃO DE ATE...</td>\n",
       "      <td>EC DOM BOSCO</td>\n",
       "      <td>53068220</td>\n",
       "      <td>DF</td>\n",
       "      <td>Brasília</td>\n",
       "      <td>Urbana</td>\n",
       "      <td>A escola não está em área de localização difer...</td>\n",
       "      <td>Pública</td>\n",
       "      <td>RUA DO CAIC, SN ANEXO DO CAIC UNESCO. CENTRO S...</td>\n",
       "      <td>(61) 39012495</td>\n",
       "      <td>Estadual</td>\n",
       "      <td>Não Informado</td>\n",
       "      <td>Não</td>\n",
       "      <td>Sim</td>\n",
       "      <td>Entre 501 e 1000 matrículas de escolarização</td>\n",
       "      <td>Ensino Fundamental</td>\n",
       "      <td>NaN</td>\n",
       "      <td>-15.902582</td>\n",
       "      <td>-47.773975</td>\n",
       "    </tr>\n",
       "    <tr>\n",
       "      <th>171630</th>\n",
       "      <td>ESCOLA EM FUNCIONAMENTO E SEM RESTRIÇÃO DE ATE...</td>\n",
       "      <td>EC VILA BURITIS</td>\n",
       "      <td>53068238</td>\n",
       "      <td>DF</td>\n",
       "      <td>Brasília</td>\n",
       "      <td>Urbana</td>\n",
       "      <td>A escola não está em área de localização difer...</td>\n",
       "      <td>Pública</td>\n",
       "      <td>CONDOMINIO RESIDENCIAL BURITIS AREA ESPECIAL 2...</td>\n",
       "      <td>(61) 39013723</td>\n",
       "      <td>Estadual</td>\n",
       "      <td>Não Informado</td>\n",
       "      <td>Não</td>\n",
       "      <td>Sim</td>\n",
       "      <td>Entre 501 e 1000 matrículas de escolarização</td>\n",
       "      <td>Ensino Fundamental</td>\n",
       "      <td>Atendimento Educacional Especializado</td>\n",
       "      <td>-15.946072</td>\n",
       "      <td>-48.230666</td>\n",
       "    </tr>\n",
       "  </tbody>\n",
       "</table>\n",
       "</div>"
      ],
      "text/plain": [
       "                                 Restrição de Atendimento  \\\n",
       "171626  ESCOLA EM FUNCIONAMENTO E SEM RESTRIÇÃO DE ATE...   \n",
       "171627  ESCOLA EM FUNCIONAMENTO E SEM RESTRIÇÃO DE ATE...   \n",
       "171628  ESCOLA EM FUNCIONAMENTO E SEM RESTRIÇÃO DE ATE...   \n",
       "171629  ESCOLA EM FUNCIONAMENTO E SEM RESTRIÇÃO DE ATE...   \n",
       "171630  ESCOLA EM FUNCIONAMENTO E SEM RESTRIÇÃO DE ATE...   \n",
       "\n",
       "                     Escola  Código INEP  UF Município Localização  \\\n",
       "171626  EC 01 DO PORTO RICO     53068190  DF  Brasília      Urbana   \n",
       "171627      EC 02 DO ITAPOA     53068203  DF  Brasília      Urbana   \n",
       "171628   CEF MIGUEL ARCANJO     53068211  DF  Brasília      Urbana   \n",
       "171629         EC DOM BOSCO     53068220  DF  Brasília      Urbana   \n",
       "171630      EC VILA BURITIS     53068238  DF  Brasília      Urbana   \n",
       "\n",
       "                                  Localidade Diferenciada  \\\n",
       "171626  A escola não está em área de localização difer...   \n",
       "171627  A escola não está em área de localização difer...   \n",
       "171628  A escola não está em área de localização difer...   \n",
       "171629  A escola não está em área de localização difer...   \n",
       "171630  A escola não está em área de localização difer...   \n",
       "\n",
       "       Categoria Administrativa  \\\n",
       "171626                  Pública   \n",
       "171627                  Pública   \n",
       "171628                  Pública   \n",
       "171629                  Pública   \n",
       "171630                  Pública   \n",
       "\n",
       "                                                 Endereço       Telefone  \\\n",
       "171626  CONDOMINIO PORTO RICO, 14C QUADRA 17 3ª ETAPA....  (61) 39016599   \n",
       "171627  AREA ITAPOA QUADRA 378 CONJUNTO L AREA ESPECIA...  (61) 39013028   \n",
       "171628  QUADRA 2, 03 AREA ESPECIAL. SAO BARTOLOMEU SAO...  (61) 39013166   \n",
       "171629  RUA DO CAIC, SN ANEXO DO CAIC UNESCO. CENTRO S...  (61) 39012495   \n",
       "171630  CONDOMINIO RESIDENCIAL BURITIS AREA ESPECIAL 2...  (61) 39013723   \n",
       "\n",
       "       Dependência Administrativa Categoria Escola Privada  \\\n",
       "171626                   Estadual            Não Informado   \n",
       "171627                   Estadual            Não Informado   \n",
       "171628                   Estadual            Não Informado   \n",
       "171629                   Estadual            Não Informado   \n",
       "171630                   Estadual            Não Informado   \n",
       "\n",
       "       Conveniada Poder Público Regulamentação pelo Conselho de Educação  \\\n",
       "171626                      Não                                      Sim   \n",
       "171627                      Não                                      Sim   \n",
       "171628                      Não                                      Sim   \n",
       "171629                      Não                                      Sim   \n",
       "171630                      Não                                      Sim   \n",
       "\n",
       "                                     Porte da Escola  \\\n",
       "171626  Entre 501 e 1000 matrículas de escolarização   \n",
       "171627  Entre 501 e 1000 matrículas de escolarização   \n",
       "171628      Mais de 1000 matrículas de escolarização   \n",
       "171629  Entre 501 e 1000 matrículas de escolarização   \n",
       "171630  Entre 501 e 1000 matrículas de escolarização   \n",
       "\n",
       "       Etapas e Modalidade de Ensino Oferecidas  \\\n",
       "171626    Educação Infantil, Ensino Fundamental   \n",
       "171627    Educação Infantil, Ensino Fundamental   \n",
       "171628                       Ensino Fundamental   \n",
       "171629                       Ensino Fundamental   \n",
       "171630                       Ensino Fundamental   \n",
       "\n",
       "                              Outras Ofertas Educacionais   Latitude  \\\n",
       "171626              Atendimento Educacional Especializado -16.035024   \n",
       "171627              Atendimento Educacional Especializado -15.739828   \n",
       "171628  Atendimento Educacional Especializado, Ativida... -15.892592   \n",
       "171629                                                NaN -15.902582   \n",
       "171630              Atendimento Educacional Especializado -15.946072   \n",
       "\n",
       "        Longitude  \n",
       "171626 -48.017546  \n",
       "171627 -47.763291  \n",
       "171628 -47.781219  \n",
       "171629 -47.773975  \n",
       "171630 -48.230666  "
      ]
     },
     "execution_count": 5,
     "metadata": {},
     "output_type": "execute_result"
    }
   ],
   "source": [
    "df.tail()"
   ]
  },
  {
   "cell_type": "code",
   "execution_count": 6,
   "id": "5ef2a9d5",
   "metadata": {
    "scrolled": true
   },
   "outputs": [
    {
     "data": {
      "text/plain": [
       "Restrição de Atendimento                     object\n",
       "Escola                                       object\n",
       "Código INEP                                   int64\n",
       "UF                                           object\n",
       "Município                                    object\n",
       "Localização                                  object\n",
       "Localidade Diferenciada                      object\n",
       "Categoria Administrativa                     object\n",
       "Endereço                                     object\n",
       "Telefone                                     object\n",
       "Dependência Administrativa                   object\n",
       "Categoria Escola Privada                     object\n",
       "Conveniada Poder Público                     object\n",
       "Regulamentação pelo Conselho de Educação     object\n",
       "Porte da Escola                              object\n",
       "Etapas e Modalidade de Ensino Oferecidas     object\n",
       "Outras Ofertas Educacionais                  object\n",
       "Latitude                                    float64\n",
       "Longitude                                   float64\n",
       "dtype: object"
      ]
     },
     "execution_count": 6,
     "metadata": {},
     "output_type": "execute_result"
    }
   ],
   "source": [
    "df.dtypes"
   ]
  },
  {
   "cell_type": "code",
   "execution_count": 7,
   "id": "4cd99aad",
   "metadata": {},
   "outputs": [
    {
     "data": {
      "text/plain": [
       "array(['RO', 'AC', 'AM', 'RR', 'PA', 'AP', 'TO', 'MA', 'PI', 'CE', 'RN',\n",
       "       'PB', 'PE', 'AL', 'SE', 'BA', 'MG', 'ES', 'RJ', 'SP', 'PR', 'SC',\n",
       "       'RS', 'MS', 'MT', 'GO', 'DF'], dtype=object)"
      ]
     },
     "execution_count": 7,
     "metadata": {},
     "output_type": "execute_result"
    }
   ],
   "source": [
    "df[\"UF\"].unique()"
   ]
  },
  {
   "cell_type": "code",
   "execution_count": 8,
   "id": "c07a6afd",
   "metadata": {
    "scrolled": true
   },
   "outputs": [
    {
     "data": {
      "text/plain": [
       "SP    20195\n",
       "BA    18770\n",
       "MG    17820\n",
       "MA    12886\n",
       "PA    11538\n",
       "CE     8630\n",
       "RS     8533\n",
       "RJ     7919\n",
       "PR     7623\n",
       "PE     7466\n",
       "PI     6086\n",
       "AM     5806\n",
       "SC     5716\n",
       "PB     4778\n",
       "RN     4358\n",
       "GO     3784\n",
       "ES     3384\n",
       "AL     2867\n",
       "MT     2593\n",
       "TO     2300\n",
       "SE     1948\n",
       "AC     1691\n",
       "MS     1349\n",
       "RO     1229\n",
       "RR      848\n",
       "AP      812\n",
       "DF      702\n",
       "Name: UF, dtype: int64"
      ]
     },
     "execution_count": 8,
     "metadata": {},
     "output_type": "execute_result"
    }
   ],
   "source": [
    "df['UF'].value_counts()"
   ]
  },
  {
   "cell_type": "markdown",
   "id": "42f3257d",
   "metadata": {},
   "source": [
    "### Na próxima linha realizo a extração de algumas colunas do DataFrame"
   ]
  },
  {
   "cell_type": "code",
   "execution_count": 9,
   "id": "da6f8f92",
   "metadata": {},
   "outputs": [],
   "source": [
    "df = df[['Escola', 'UF', 'Município', 'Localização', 'Dependência Administrativa', 'Etapas e Modalidade de Ensino Oferecidas']]"
   ]
  },
  {
   "cell_type": "markdown",
   "id": "4816b032",
   "metadata": {},
   "source": [
    "### Realizo a extração dos dados apenas da região sul do país: Rio Grande do Sul, Santa Catarina e Paraná"
   ]
  },
  {
   "cell_type": "code",
   "execution_count": 10,
   "id": "5a1b81d6",
   "metadata": {},
   "outputs": [],
   "source": [
    "dfSul = df.loc[ (df['UF'] == 'RS') | (df['UF'] == 'SC') | (df['UF'] == 'PR') ]"
   ]
  },
  {
   "cell_type": "code",
   "execution_count": 11,
   "id": "a3d9bc3e",
   "metadata": {},
   "outputs": [
    {
     "data": {
      "text/plain": [
       "array(['PR', 'SC', 'RS'], dtype=object)"
      ]
     },
     "execution_count": 11,
     "metadata": {},
     "output_type": "execute_result"
    }
   ],
   "source": [
    "dfSul[\"UF\"].unique()"
   ]
  },
  {
   "cell_type": "markdown",
   "id": "1fc11b64",
   "metadata": {},
   "source": [
    "### Divisão de depêndencias administrativas escolares por estado"
   ]
  },
  {
   "cell_type": "code",
   "execution_count": 12,
   "id": "224eef56",
   "metadata": {},
   "outputs": [
    {
     "data": {
      "text/plain": [
       "UF  Dependência Administrativa\n",
       "PR  Municipal                     5432\n",
       "    Estadual                      2160\n",
       "    Federal                         31\n",
       "RS  Municipal                     5877\n",
       "    Estadual                      2606\n",
       "    Federal                         50\n",
       "SC  Municipal                     4321\n",
       "    Estadual                      1356\n",
       "    Federal                         39\n",
       "Name: Dependência Administrativa, dtype: int64"
      ]
     },
     "execution_count": 12,
     "metadata": {},
     "output_type": "execute_result"
    }
   ],
   "source": [
    "dfSul.groupby(\"UF\")[\"Dependência Administrativa\"].value_counts()"
   ]
  },
  {
   "cell_type": "markdown",
   "id": "98841c7a",
   "metadata": {},
   "source": [
    "### Média de escolas por estado"
   ]
  },
  {
   "cell_type": "code",
   "execution_count": 13,
   "id": "0c79e51c",
   "metadata": {
    "scrolled": true
   },
   "outputs": [
    {
     "data": {
      "text/plain": [
       "7290.666666666667"
      ]
     },
     "execution_count": 13,
     "metadata": {},
     "output_type": "execute_result"
    }
   ],
   "source": [
    "dfSul.groupby(\"UF\").size().mean()"
   ]
  }
 ],
 "metadata": {
  "kernelspec": {
   "display_name": "Python 3",
   "language": "python",
   "name": "python3"
  },
  "language_info": {
   "codemirror_mode": {
    "name": "ipython",
    "version": 3
   },
   "file_extension": ".py",
   "mimetype": "text/x-python",
   "name": "python",
   "nbconvert_exporter": "python",
   "pygments_lexer": "ipython3",
   "version": "3.8.8"
  }
 },
 "nbformat": 4,
 "nbformat_minor": 5
}
